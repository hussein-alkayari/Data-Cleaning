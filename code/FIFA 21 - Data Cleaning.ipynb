{
 "cells": [
  {
   "cell_type": "markdown",
   "id": "f2979b55",
   "metadata": {},
   "source": [
    "# This notebook is to clean up a messy and chaotic FIFA 2021 Players dataset."
   ]
  },
  {
   "cell_type": "markdown",
   "id": "34ae2766",
   "metadata": {},
   "source": [
    "### 0. Import necessary libraries:"
   ]
  },
  {
   "cell_type": "code",
   "execution_count": 1,
   "id": "ebbeef86",
   "metadata": {},
   "outputs": [],
   "source": [
    "import pandas as pd\n",
    "import numpy as np\n",
    "import matplotlib.pyplot as plt\n",
    "import seaborn as sns\n",
    "from datetime import datetime"
   ]
  },
  {
   "cell_type": "markdown",
   "id": "98c9f9ce",
   "metadata": {},
   "source": [
    "## 1. Load and explore the dataset:"
   ]
  },
  {
   "cell_type": "code",
   "execution_count": 2,
   "id": "10931224",
   "metadata": {},
   "outputs": [
    {
     "name": "stderr",
     "output_type": "stream",
     "text": [
      "C:\\Users\\Hussein\\AppData\\Local\\Temp\\ipykernel_28964\\1602969259.py:3: DtypeWarning: Columns (76) have mixed types. Specify dtype option on import or set low_memory=False.\n",
      "  data = pd.read_csv(path_to_data)\n"
     ]
    }
   ],
   "source": [
    "path_to_data = '/kaggle/input/fifa/fifa21_raw_data.csv'\n",
    "data = pd.read_csv(path_to_data)"
   ]
  },
  {
   "cell_type": "code",
   "execution_count": null,
   "id": "1968638c",
   "metadata": {},
   "outputs": [],
   "source": []
  },
  {
   "cell_type": "code",
   "execution_count": 3,
   "id": "e367eb33",
   "metadata": {},
   "outputs": [
    {
     "data": {
      "text/html": [
       "<div>\n",
       "<style scoped>\n",
       "    .dataframe tbody tr th:only-of-type {\n",
       "        vertical-align: middle;\n",
       "    }\n",
       "\n",
       "    .dataframe tbody tr th {\n",
       "        vertical-align: top;\n",
       "    }\n",
       "\n",
       "    .dataframe thead th {\n",
       "        text-align: right;\n",
       "    }\n",
       "</style>\n",
       "<table border=\"1\" class=\"dataframe\">\n",
       "  <thead>\n",
       "    <tr style=\"text-align: right;\">\n",
       "      <th></th>\n",
       "      <th>photoUrl</th>\n",
       "      <th>LongName</th>\n",
       "      <th>playerUrl</th>\n",
       "      <th>Nationality</th>\n",
       "      <th>Positions</th>\n",
       "      <th>Name</th>\n",
       "      <th>Age</th>\n",
       "      <th>↓OVA</th>\n",
       "      <th>POT</th>\n",
       "      <th>Team &amp; Contract</th>\n",
       "      <th>...</th>\n",
       "      <th>A/W</th>\n",
       "      <th>D/W</th>\n",
       "      <th>IR</th>\n",
       "      <th>PAC</th>\n",
       "      <th>SHO</th>\n",
       "      <th>PAS</th>\n",
       "      <th>DRI</th>\n",
       "      <th>DEF</th>\n",
       "      <th>PHY</th>\n",
       "      <th>Hits</th>\n",
       "    </tr>\n",
       "  </thead>\n",
       "  <tbody>\n",
       "    <tr>\n",
       "      <th>0</th>\n",
       "      <td>https://cdn.sofifa.com/players/158/023/21_60.png</td>\n",
       "      <td>Lionel Messi</td>\n",
       "      <td>http://sofifa.com/player/158023/lionel-messi/2...</td>\n",
       "      <td>Argentina</td>\n",
       "      <td>RW ST CF</td>\n",
       "      <td>L. Messi</td>\n",
       "      <td>33</td>\n",
       "      <td>93</td>\n",
       "      <td>93</td>\n",
       "      <td>\\n\\n\\n\\nFC Barcelona\\n2004 ~ 2021\\n\\n</td>\n",
       "      <td>...</td>\n",
       "      <td>Medium</td>\n",
       "      <td>Low</td>\n",
       "      <td>5 ★</td>\n",
       "      <td>85</td>\n",
       "      <td>92</td>\n",
       "      <td>91</td>\n",
       "      <td>95</td>\n",
       "      <td>38</td>\n",
       "      <td>65</td>\n",
       "      <td>\\n372</td>\n",
       "    </tr>\n",
       "    <tr>\n",
       "      <th>1</th>\n",
       "      <td>https://cdn.sofifa.com/players/020/801/21_60.png</td>\n",
       "      <td>C. Ronaldo dos Santos Aveiro</td>\n",
       "      <td>http://sofifa.com/player/20801/c-ronaldo-dos-s...</td>\n",
       "      <td>Portugal</td>\n",
       "      <td>ST LW</td>\n",
       "      <td>Cristiano Ronaldo</td>\n",
       "      <td>35</td>\n",
       "      <td>92</td>\n",
       "      <td>92</td>\n",
       "      <td>\\n\\n\\n\\nJuventus\\n2018 ~ 2022\\n\\n</td>\n",
       "      <td>...</td>\n",
       "      <td>High</td>\n",
       "      <td>Low</td>\n",
       "      <td>5 ★</td>\n",
       "      <td>89</td>\n",
       "      <td>93</td>\n",
       "      <td>81</td>\n",
       "      <td>89</td>\n",
       "      <td>35</td>\n",
       "      <td>77</td>\n",
       "      <td>\\n344</td>\n",
       "    </tr>\n",
       "    <tr>\n",
       "      <th>2</th>\n",
       "      <td>https://cdn.sofifa.com/players/200/389/21_60.png</td>\n",
       "      <td>Jan Oblak</td>\n",
       "      <td>http://sofifa.com/player/200389/jan-oblak/210005/</td>\n",
       "      <td>Slovenia</td>\n",
       "      <td>GK</td>\n",
       "      <td>J. Oblak</td>\n",
       "      <td>27</td>\n",
       "      <td>91</td>\n",
       "      <td>93</td>\n",
       "      <td>\\n\\n\\n\\nAtlético Madrid\\n2014 ~ 2023\\n\\n</td>\n",
       "      <td>...</td>\n",
       "      <td>Medium</td>\n",
       "      <td>Medium</td>\n",
       "      <td>3 ★</td>\n",
       "      <td>87</td>\n",
       "      <td>92</td>\n",
       "      <td>78</td>\n",
       "      <td>90</td>\n",
       "      <td>52</td>\n",
       "      <td>90</td>\n",
       "      <td>\\n86</td>\n",
       "    </tr>\n",
       "    <tr>\n",
       "      <th>3</th>\n",
       "      <td>https://cdn.sofifa.com/players/192/985/21_60.png</td>\n",
       "      <td>Kevin De Bruyne</td>\n",
       "      <td>http://sofifa.com/player/192985/kevin-de-bruyn...</td>\n",
       "      <td>Belgium</td>\n",
       "      <td>CAM CM</td>\n",
       "      <td>K. De Bruyne</td>\n",
       "      <td>29</td>\n",
       "      <td>91</td>\n",
       "      <td>91</td>\n",
       "      <td>\\n\\n\\n\\nManchester City\\n2015 ~ 2023\\n\\n</td>\n",
       "      <td>...</td>\n",
       "      <td>High</td>\n",
       "      <td>High</td>\n",
       "      <td>4 ★</td>\n",
       "      <td>76</td>\n",
       "      <td>86</td>\n",
       "      <td>93</td>\n",
       "      <td>88</td>\n",
       "      <td>64</td>\n",
       "      <td>78</td>\n",
       "      <td>\\n163</td>\n",
       "    </tr>\n",
       "    <tr>\n",
       "      <th>4</th>\n",
       "      <td>https://cdn.sofifa.com/players/190/871/21_60.png</td>\n",
       "      <td>Neymar da Silva Santos Jr.</td>\n",
       "      <td>http://sofifa.com/player/190871/neymar-da-silv...</td>\n",
       "      <td>Brazil</td>\n",
       "      <td>LW CAM</td>\n",
       "      <td>Neymar Jr</td>\n",
       "      <td>28</td>\n",
       "      <td>91</td>\n",
       "      <td>91</td>\n",
       "      <td>\\n\\n\\n\\nParis Saint-Germain\\n2017 ~ 2022\\n\\n</td>\n",
       "      <td>...</td>\n",
       "      <td>High</td>\n",
       "      <td>Medium</td>\n",
       "      <td>5 ★</td>\n",
       "      <td>91</td>\n",
       "      <td>85</td>\n",
       "      <td>86</td>\n",
       "      <td>94</td>\n",
       "      <td>36</td>\n",
       "      <td>59</td>\n",
       "      <td>\\n273</td>\n",
       "    </tr>\n",
       "  </tbody>\n",
       "</table>\n",
       "<p>5 rows × 77 columns</p>\n",
       "</div>"
      ],
      "text/plain": [
       "                                           photoUrl  \\\n",
       "0  https://cdn.sofifa.com/players/158/023/21_60.png   \n",
       "1  https://cdn.sofifa.com/players/020/801/21_60.png   \n",
       "2  https://cdn.sofifa.com/players/200/389/21_60.png   \n",
       "3  https://cdn.sofifa.com/players/192/985/21_60.png   \n",
       "4  https://cdn.sofifa.com/players/190/871/21_60.png   \n",
       "\n",
       "                       LongName  \\\n",
       "0                  Lionel Messi   \n",
       "1  C. Ronaldo dos Santos Aveiro   \n",
       "2                     Jan Oblak   \n",
       "3               Kevin De Bruyne   \n",
       "4    Neymar da Silva Santos Jr.   \n",
       "\n",
       "                                           playerUrl Nationality Positions  \\\n",
       "0  http://sofifa.com/player/158023/lionel-messi/2...   Argentina  RW ST CF   \n",
       "1  http://sofifa.com/player/20801/c-ronaldo-dos-s...    Portugal     ST LW   \n",
       "2  http://sofifa.com/player/200389/jan-oblak/210005/    Slovenia        GK   \n",
       "3  http://sofifa.com/player/192985/kevin-de-bruyn...     Belgium    CAM CM   \n",
       "4  http://sofifa.com/player/190871/neymar-da-silv...      Brazil    LW CAM   \n",
       "\n",
       "                Name  Age  ↓OVA  POT  \\\n",
       "0           L. Messi   33    93   93   \n",
       "1  Cristiano Ronaldo   35    92   92   \n",
       "2           J. Oblak   27    91   93   \n",
       "3       K. De Bruyne   29    91   91   \n",
       "4          Neymar Jr   28    91   91   \n",
       "\n",
       "                                Team & Contract  ...     A/W     D/W   IR PAC  \\\n",
       "0         \\n\\n\\n\\nFC Barcelona\\n2004 ~ 2021\\n\\n  ...  Medium     Low  5 ★  85   \n",
       "1             \\n\\n\\n\\nJuventus\\n2018 ~ 2022\\n\\n  ...    High     Low  5 ★  89   \n",
       "2      \\n\\n\\n\\nAtlético Madrid\\n2014 ~ 2023\\n\\n  ...  Medium  Medium  3 ★  87   \n",
       "3      \\n\\n\\n\\nManchester City\\n2015 ~ 2023\\n\\n  ...    High    High  4 ★  76   \n",
       "4  \\n\\n\\n\\nParis Saint-Germain\\n2017 ~ 2022\\n\\n  ...    High  Medium  5 ★  91   \n",
       "\n",
       "   SHO PAS  DRI DEF PHY   Hits  \n",
       "0   92  91   95  38  65  \\n372  \n",
       "1   93  81   89  35  77  \\n344  \n",
       "2   92  78   90  52  90   \\n86  \n",
       "3   86  93   88  64  78  \\n163  \n",
       "4   85  86   94  36  59  \\n273  \n",
       "\n",
       "[5 rows x 77 columns]"
      ]
     },
     "execution_count": 3,
     "metadata": {},
     "output_type": "execute_result"
    }
   ],
   "source": [
    "data.head()"
   ]
  },
  {
   "cell_type": "code",
   "execution_count": 4,
   "id": "349945ba",
   "metadata": {},
   "outputs": [
    {
     "data": {
      "text/plain": [
       "(18979, 77)"
      ]
     },
     "execution_count": 4,
     "metadata": {},
     "output_type": "execute_result"
    }
   ],
   "source": [
    "data.shape"
   ]
  },
  {
   "cell_type": "code",
   "execution_count": 5,
   "id": "cfa2d068",
   "metadata": {},
   "outputs": [
    {
     "name": "stdout",
     "output_type": "stream",
     "text": [
      "<class 'pandas.core.frame.DataFrame'>\n",
      "RangeIndex: 18979 entries, 0 to 18978\n",
      "Data columns (total 77 columns):\n",
      " #   Column            Non-Null Count  Dtype \n",
      "---  ------            --------------  ----- \n",
      " 0   photoUrl          18979 non-null  object\n",
      " 1   LongName          18979 non-null  object\n",
      " 2   playerUrl         18979 non-null  object\n",
      " 3   Nationality       18979 non-null  object\n",
      " 4   Positions         18979 non-null  object\n",
      " 5   Name              18979 non-null  object\n",
      " 6   Age               18979 non-null  int64 \n",
      " 7   ↓OVA              18979 non-null  int64 \n",
      " 8   POT               18979 non-null  int64 \n",
      " 9   Team & Contract   18979 non-null  object\n",
      " 10  ID                18979 non-null  int64 \n",
      " 11  Height            18979 non-null  object\n",
      " 12  Weight            18979 non-null  object\n",
      " 13  foot              18979 non-null  object\n",
      " 14  BOV               18979 non-null  int64 \n",
      " 15  BP                18979 non-null  object\n",
      " 16  Growth            18979 non-null  int64 \n",
      " 17  Joined            18979 non-null  object\n",
      " 18  Loan Date End     1013 non-null   object\n",
      " 19  Value             18979 non-null  object\n",
      " 20  Wage              18979 non-null  object\n",
      " 21  Release Clause    18979 non-null  object\n",
      " 22  Attacking         18979 non-null  int64 \n",
      " 23  Crossing          18979 non-null  int64 \n",
      " 24  Finishing         18979 non-null  int64 \n",
      " 25  Heading Accuracy  18979 non-null  int64 \n",
      " 26  Short Passing     18979 non-null  int64 \n",
      " 27  Volleys           18979 non-null  int64 \n",
      " 28  Skill             18979 non-null  int64 \n",
      " 29  Dribbling         18979 non-null  int64 \n",
      " 30  Curve             18979 non-null  int64 \n",
      " 31  FK Accuracy       18979 non-null  int64 \n",
      " 32  Long Passing      18979 non-null  int64 \n",
      " 33  Ball Control      18979 non-null  int64 \n",
      " 34  Movement          18979 non-null  int64 \n",
      " 35  Acceleration      18979 non-null  int64 \n",
      " 36  Sprint Speed      18979 non-null  int64 \n",
      " 37  Agility           18979 non-null  int64 \n",
      " 38  Reactions         18979 non-null  int64 \n",
      " 39  Balance           18979 non-null  int64 \n",
      " 40  Power             18979 non-null  int64 \n",
      " 41  Shot Power        18979 non-null  int64 \n",
      " 42  Jumping           18979 non-null  int64 \n",
      " 43  Stamina           18979 non-null  int64 \n",
      " 44  Strength          18979 non-null  int64 \n",
      " 45  Long Shots        18979 non-null  int64 \n",
      " 46  Mentality         18979 non-null  int64 \n",
      " 47  Aggression        18979 non-null  int64 \n",
      " 48  Interceptions     18979 non-null  int64 \n",
      " 49  Positioning       18979 non-null  int64 \n",
      " 50  Vision            18979 non-null  int64 \n",
      " 51  Penalties         18979 non-null  int64 \n",
      " 52  Composure         18979 non-null  int64 \n",
      " 53  Defending         18979 non-null  int64 \n",
      " 54  Marking           18979 non-null  int64 \n",
      " 55  Standing Tackle   18979 non-null  int64 \n",
      " 56  Sliding Tackle    18979 non-null  int64 \n",
      " 57  Goalkeeping       18979 non-null  int64 \n",
      " 58  GK Diving         18979 non-null  int64 \n",
      " 59  GK Handling       18979 non-null  int64 \n",
      " 60  GK Kicking        18979 non-null  int64 \n",
      " 61  GK Positioning    18979 non-null  int64 \n",
      " 62  GK Reflexes       18979 non-null  int64 \n",
      " 63  Total Stats       18979 non-null  int64 \n",
      " 64  Base Stats        18979 non-null  int64 \n",
      " 65  W/F               18979 non-null  object\n",
      " 66  SM                18979 non-null  object\n",
      " 67  A/W               18979 non-null  object\n",
      " 68  D/W               18979 non-null  object\n",
      " 69  IR                18979 non-null  object\n",
      " 70  PAC               18979 non-null  int64 \n",
      " 71  SHO               18979 non-null  int64 \n",
      " 72  PAS               18979 non-null  int64 \n",
      " 73  DRI               18979 non-null  int64 \n",
      " 74  DEF               18979 non-null  int64 \n",
      " 75  PHY               18979 non-null  int64 \n",
      " 76  Hits              18979 non-null  object\n",
      "dtypes: int64(55), object(22)\n",
      "memory usage: 11.1+ MB\n"
     ]
    }
   ],
   "source": [
    "data.info()"
   ]
  },
  {
   "cell_type": "markdown",
   "id": "cc69be2e",
   "metadata": {},
   "source": [
    "## 1. Convert Height and Weight to appropriate data types:"
   ]
  },
  {
   "cell_type": "markdown",
   "id": "a0e03080",
   "metadata": {},
   "source": [
    "### Before Conversion:"
   ]
  },
  {
   "cell_type": "code",
   "execution_count": 6,
   "id": "536e9f67",
   "metadata": {},
   "outputs": [
    {
     "name": "stdout",
     "output_type": "stream",
     "text": [
      "5'7\"\n",
      "<class 'str'>\n",
      "159lbs\n"
     ]
    }
   ],
   "source": [
    "height = data['Height'][0]\n",
    "print(height)\n",
    "print(type(height))\n",
    "print(data['Weight'][0])"
   ]
  },
  {
   "cell_type": "markdown",
   "id": "6c8a504d",
   "metadata": {},
   "source": [
    "### Conversion:"
   ]
  },
  {
   "cell_type": "code",
   "execution_count": 7,
   "id": "24a346bb",
   "metadata": {},
   "outputs": [
    {
     "name": "stdout",
     "output_type": "stream",
     "text": [
      "Height and Weight were converted successfully.\n"
     ]
    }
   ],
   "source": [
    "for i, row in data.iterrows():\n",
    "    height = row['Height'].replace('\"', '')\n",
    "    feet, inches = height.split(\"'\") \n",
    "    \n",
    "    # Convert feet to inches and add the remaining inches\n",
    "    total_inches = (float(feet) * 12) + float(inches)\n",
    "    # Convert inches to centimeters\n",
    "    cm = total_inches * 2.54\n",
    "    data.loc[i, 'Height'] = int(cm)                     # convert string to float data type\n",
    "\n",
    "    \n",
    "for i, row in data.iterrows():\n",
    "    weight = row['Weight'].replace(\"'\", \".\").replace(\"lbs\", \"\")  # remove '  and  remove lbs\n",
    "    data.loc[i, 'Weight'] = int(weight)                     # convert string to integer data type\n",
    "\n",
    "print('Height and Weight were converted successfully.')    "
   ]
  },
  {
   "cell_type": "markdown",
   "id": "d12ec039",
   "metadata": {},
   "source": [
    "### After Conversion:"
   ]
  },
  {
   "cell_type": "code",
   "execution_count": 8,
   "id": "d8c31f6d",
   "metadata": {},
   "outputs": [
    {
     "data": {
      "text/html": [
       "<div>\n",
       "<style scoped>\n",
       "    .dataframe tbody tr th:only-of-type {\n",
       "        vertical-align: middle;\n",
       "    }\n",
       "\n",
       "    .dataframe tbody tr th {\n",
       "        vertical-align: top;\n",
       "    }\n",
       "\n",
       "    .dataframe thead th {\n",
       "        text-align: right;\n",
       "    }\n",
       "</style>\n",
       "<table border=\"1\" class=\"dataframe\">\n",
       "  <thead>\n",
       "    <tr style=\"text-align: right;\">\n",
       "      <th></th>\n",
       "      <th>Height</th>\n",
       "      <th>Weight</th>\n",
       "    </tr>\n",
       "  </thead>\n",
       "  <tbody>\n",
       "    <tr>\n",
       "      <th>0</th>\n",
       "      <td>170</td>\n",
       "      <td>159</td>\n",
       "    </tr>\n",
       "    <tr>\n",
       "      <th>1</th>\n",
       "      <td>187</td>\n",
       "      <td>183</td>\n",
       "    </tr>\n",
       "    <tr>\n",
       "      <th>2</th>\n",
       "      <td>187</td>\n",
       "      <td>192</td>\n",
       "    </tr>\n",
       "    <tr>\n",
       "      <th>3</th>\n",
       "      <td>180</td>\n",
       "      <td>154</td>\n",
       "    </tr>\n",
       "    <tr>\n",
       "      <th>4</th>\n",
       "      <td>175</td>\n",
       "      <td>150</td>\n",
       "    </tr>\n",
       "    <tr>\n",
       "      <th>...</th>\n",
       "      <td>...</td>\n",
       "      <td>...</td>\n",
       "    </tr>\n",
       "    <tr>\n",
       "      <th>18974</th>\n",
       "      <td>177</td>\n",
       "      <td>154</td>\n",
       "    </tr>\n",
       "    <tr>\n",
       "      <th>18975</th>\n",
       "      <td>170</td>\n",
       "      <td>128</td>\n",
       "    </tr>\n",
       "    <tr>\n",
       "      <th>18976</th>\n",
       "      <td>177</td>\n",
       "      <td>146</td>\n",
       "    </tr>\n",
       "    <tr>\n",
       "      <th>18977</th>\n",
       "      <td>175</td>\n",
       "      <td>143</td>\n",
       "    </tr>\n",
       "    <tr>\n",
       "      <th>18978</th>\n",
       "      <td>175</td>\n",
       "      <td>150</td>\n",
       "    </tr>\n",
       "  </tbody>\n",
       "</table>\n",
       "<p>18979 rows × 2 columns</p>\n",
       "</div>"
      ],
      "text/plain": [
       "      Height Weight\n",
       "0        170    159\n",
       "1        187    183\n",
       "2        187    192\n",
       "3        180    154\n",
       "4        175    150\n",
       "...      ...    ...\n",
       "18974    177    154\n",
       "18975    170    128\n",
       "18976    177    146\n",
       "18977    175    143\n",
       "18978    175    150\n",
       "\n",
       "[18979 rows x 2 columns]"
      ]
     },
     "execution_count": 8,
     "metadata": {},
     "output_type": "execute_result"
    }
   ],
   "source": [
    "data[['Height', 'Weight']]"
   ]
  },
  {
   "cell_type": "code",
   "execution_count": null,
   "id": "c05f997b",
   "metadata": {},
   "outputs": [],
   "source": []
  },
  {
   "cell_type": "markdown",
   "id": "521e1d77",
   "metadata": {},
   "source": [
    "## 2. Separate the Joined column into Year, Month and Day columns:\n",
    "### The Joined column has the form of: 'MMM D, YYY'"
   ]
  },
  {
   "cell_type": "markdown",
   "id": "4c47f17e",
   "metadata": {},
   "source": [
    "### Before:"
   ]
  },
  {
   "cell_type": "code",
   "execution_count": 9,
   "id": "352262c1",
   "metadata": {},
   "outputs": [
    {
     "data": {
      "text/plain": [
       "'Jul 1, 2004'"
      ]
     },
     "execution_count": 9,
     "metadata": {},
     "output_type": "execute_result"
    }
   ],
   "source": [
    "data['Joined'][0]"
   ]
  },
  {
   "cell_type": "code",
   "execution_count": 10,
   "id": "db1d4ff5",
   "metadata": {},
   "outputs": [
    {
     "name": "stdout",
     "output_type": "stream",
     "text": [
      "Split done sucessfully.\n"
     ]
    }
   ],
   "source": [
    "# Convert the 'Joined' column into datetime format and then extract the required components\n",
    "data['Joined'] = pd.to_datetime(data['Joined'], format='%b %d, %Y')\n",
    "\n",
    "# Extract Year, Month, and Day\n",
    "data['Year'] = data['Joined'].dt.year\n",
    "data['Month'] = data['Joined'].dt.month_name().str[:3]  # Full month name or abbreviations\n",
    "data['Day'] = data['Joined'].dt.day\n",
    "print('Split done sucessfully.')"
   ]
  },
  {
   "cell_type": "markdown",
   "id": "44dea05c",
   "metadata": {},
   "source": [
    "### After Split:"
   ]
  },
  {
   "cell_type": "code",
   "execution_count": 11,
   "id": "ee41a437",
   "metadata": {},
   "outputs": [
    {
     "data": {
      "text/html": [
       "<div>\n",
       "<style scoped>\n",
       "    .dataframe tbody tr th:only-of-type {\n",
       "        vertical-align: middle;\n",
       "    }\n",
       "\n",
       "    .dataframe tbody tr th {\n",
       "        vertical-align: top;\n",
       "    }\n",
       "\n",
       "    .dataframe thead th {\n",
       "        text-align: right;\n",
       "    }\n",
       "</style>\n",
       "<table border=\"1\" class=\"dataframe\">\n",
       "  <thead>\n",
       "    <tr style=\"text-align: right;\">\n",
       "      <th></th>\n",
       "      <th>Year</th>\n",
       "      <th>Month</th>\n",
       "      <th>Day</th>\n",
       "    </tr>\n",
       "  </thead>\n",
       "  <tbody>\n",
       "    <tr>\n",
       "      <th>0</th>\n",
       "      <td>2004</td>\n",
       "      <td>Jul</td>\n",
       "      <td>1</td>\n",
       "    </tr>\n",
       "    <tr>\n",
       "      <th>1</th>\n",
       "      <td>2018</td>\n",
       "      <td>Jul</td>\n",
       "      <td>10</td>\n",
       "    </tr>\n",
       "    <tr>\n",
       "      <th>2</th>\n",
       "      <td>2014</td>\n",
       "      <td>Jul</td>\n",
       "      <td>16</td>\n",
       "    </tr>\n",
       "    <tr>\n",
       "      <th>3</th>\n",
       "      <td>2015</td>\n",
       "      <td>Aug</td>\n",
       "      <td>30</td>\n",
       "    </tr>\n",
       "    <tr>\n",
       "      <th>4</th>\n",
       "      <td>2017</td>\n",
       "      <td>Aug</td>\n",
       "      <td>3</td>\n",
       "    </tr>\n",
       "    <tr>\n",
       "      <th>...</th>\n",
       "      <td>...</td>\n",
       "      <td>...</td>\n",
       "      <td>...</td>\n",
       "    </tr>\n",
       "    <tr>\n",
       "      <th>18974</th>\n",
       "      <td>2020</td>\n",
       "      <td>Aug</td>\n",
       "      <td>1</td>\n",
       "    </tr>\n",
       "    <tr>\n",
       "      <th>18975</th>\n",
       "      <td>2020</td>\n",
       "      <td>Aug</td>\n",
       "      <td>1</td>\n",
       "    </tr>\n",
       "    <tr>\n",
       "      <th>18976</th>\n",
       "      <td>2018</td>\n",
       "      <td>Jul</td>\n",
       "      <td>13</td>\n",
       "    </tr>\n",
       "    <tr>\n",
       "      <th>18977</th>\n",
       "      <td>2020</td>\n",
       "      <td>Aug</td>\n",
       "      <td>1</td>\n",
       "    </tr>\n",
       "    <tr>\n",
       "      <th>18978</th>\n",
       "      <td>2020</td>\n",
       "      <td>Jan</td>\n",
       "      <td>1</td>\n",
       "    </tr>\n",
       "  </tbody>\n",
       "</table>\n",
       "<p>18979 rows × 3 columns</p>\n",
       "</div>"
      ],
      "text/plain": [
       "       Year Month  Day\n",
       "0      2004   Jul    1\n",
       "1      2018   Jul   10\n",
       "2      2014   Jul   16\n",
       "3      2015   Aug   30\n",
       "4      2017   Aug    3\n",
       "...     ...   ...  ...\n",
       "18974  2020   Aug    1\n",
       "18975  2020   Aug    1\n",
       "18976  2018   Jul   13\n",
       "18977  2020   Aug    1\n",
       "18978  2020   Jan    1\n",
       "\n",
       "[18979 rows x 3 columns]"
      ]
     },
     "execution_count": 11,
     "metadata": {},
     "output_type": "execute_result"
    }
   ],
   "source": [
    "data[['Year','Month' ,'Day']]"
   ]
  },
  {
   "cell_type": "code",
   "execution_count": null,
   "id": "55c5386b",
   "metadata": {},
   "outputs": [],
   "source": []
  },
  {
   "cell_type": "markdown",
   "id": "e9091c8d",
   "metadata": {},
   "source": [
    "## 3. Clean and transform the Wage, Value, and Release Clause columns into columns of integers:"
   ]
  },
  {
   "cell_type": "markdown",
   "id": "c3206bd2",
   "metadata": {},
   "source": [
    "### Before Transformation:"
   ]
  },
  {
   "cell_type": "code",
   "execution_count": 12,
   "id": "1786dba8",
   "metadata": {},
   "outputs": [
    {
     "name": "stdout",
     "output_type": "stream",
     "text": [
      "€210K\n",
      "€44.5M\n",
      "€8.6M\n"
     ]
    }
   ],
   "source": [
    "print(data['Wage'][10]) # all in € and in thousands (k)\n",
    "print(data['Value'][100])  # all in €, but either in M or K\n",
    "print(data['Release Clause'][1000])  # all in €, but either in M or K"
   ]
  },
  {
   "cell_type": "markdown",
   "id": "5170814b",
   "metadata": {},
   "source": [
    "### Transformation:\n",
    "#### Steps:\n",
    "1. read cloumn of interest, \n",
    "2. extract the unit, whether K or M, represented in the last character   \n",
    "3. extract numeric content which is located after the first character and before the last character,\n",
    "4. if unit is K then multiply by 1,000, else if M then multiply by 1,000,000"
   ]
  },
  {
   "cell_type": "code",
   "execution_count": 13,
   "id": "b450c6eb",
   "metadata": {},
   "outputs": [],
   "source": [
    "data['Value'] = data['Value'].str.replace('€','')\n",
    "data['Wage'] = data['Value'].str.replace('€','')\n",
    "data['Release Clause'] = data['Release Clause'].str.replace('€','')\n",
    "\n",
    "def transform_data(value):\n",
    "    \n",
    "    if isinstance(value, str):\n",
    "        if 'M' in value:\n",
    "            return float(value.replace('€', '').replace('M', '')) * 1e6\n",
    "        elif 'K' in value:\n",
    "            return float(value.replace('€', '').replace('K', '')) * 1e3\n",
    "        else:\n",
    "            return float(value.replace('€', ''))       \n",
    "        \n",
    "    return value"
   ]
  },
  {
   "cell_type": "code",
   "execution_count": 14,
   "id": "45b6bbae",
   "metadata": {},
   "outputs": [],
   "source": [
    "data['Wage'] = data['Wage'].apply(transform_data)\n",
    "data['Value'] = data['Value'].apply(transform_data)\n",
    "data['Release Clause'] = data['Release Clause'].apply(transform_data)"
   ]
  },
  {
   "cell_type": "markdown",
   "id": "a74831d2",
   "metadata": {},
   "source": [
    "### After Transformation:"
   ]
  },
  {
   "cell_type": "code",
   "execution_count": 15,
   "id": "a38d3480",
   "metadata": {},
   "outputs": [
    {
     "name": "stdout",
     "output_type": "stream",
     "text": [
      "75500000.0\n",
      "44500000.0\n",
      "8600000.0\n"
     ]
    }
   ],
   "source": [
    "print(data['Wage'][10]) \n",
    "print(data['Value'][100])  \n",
    "print(data['Release Clause'][1000])  "
   ]
  },
  {
   "cell_type": "code",
   "execution_count": null,
   "id": "6ec4d6d5",
   "metadata": {},
   "outputs": [],
   "source": []
  },
  {
   "cell_type": "markdown",
   "id": "89fa6112",
   "metadata": {},
   "source": [
    "## 4. Remove the newline characters from the Hits column:"
   ]
  },
  {
   "cell_type": "markdown",
   "id": "8d0cec01",
   "metadata": {},
   "source": [
    "### Before removal:"
   ]
  },
  {
   "cell_type": "code",
   "execution_count": 16,
   "id": "5d211e92",
   "metadata": {},
   "outputs": [
    {
     "data": {
      "text/plain": [
       "0    \\n372\n",
       "1    \\n344\n",
       "2     \\n86\n",
       "3    \\n163\n",
       "4    \\n273\n",
       "Name: Hits, dtype: object"
      ]
     },
     "execution_count": 16,
     "metadata": {},
     "output_type": "execute_result"
    }
   ],
   "source": [
    "data['Hits'].head()"
   ]
  },
  {
   "cell_type": "markdown",
   "id": "869d2b61",
   "metadata": {},
   "source": [
    "### Removal:"
   ]
  },
  {
   "cell_type": "code",
   "execution_count": 17,
   "id": "1d502903",
   "metadata": {},
   "outputs": [],
   "source": [
    "#  remove only the leading '\\n'\n",
    "data['Hits'] = data['Hits'].str.lstrip('\\n')"
   ]
  },
  {
   "cell_type": "markdown",
   "id": "fa32f512",
   "metadata": {},
   "source": [
    "### After Removal:"
   ]
  },
  {
   "cell_type": "code",
   "execution_count": 18,
   "id": "f604706f",
   "metadata": {},
   "outputs": [
    {
     "data": {
      "text/plain": [
       "0    372\n",
       "1    344\n",
       "2     86\n",
       "3    163\n",
       "4    273\n",
       "Name: Hits, dtype: object"
      ]
     },
     "execution_count": 18,
     "metadata": {},
     "output_type": "execute_result"
    }
   ],
   "source": [
    "data['Hits'].head()"
   ]
  },
  {
   "cell_type": "code",
   "execution_count": null,
   "id": "263beae6",
   "metadata": {},
   "outputs": [],
   "source": []
  },
  {
   "cell_type": "markdown",
   "id": "cf1f02c7",
   "metadata": {},
   "source": [
    "## 5. Separate the Team & Contract column into Team and Contract columns:"
   ]
  },
  {
   "cell_type": "markdown",
   "id": "860eb1b5",
   "metadata": {},
   "source": [
    "### Before:"
   ]
  },
  {
   "cell_type": "code",
   "execution_count": 19,
   "id": "47adce04",
   "metadata": {},
   "outputs": [
    {
     "data": {
      "text/plain": [
       "0           \\n\\n\\n\\nFC Barcelona\\n2004 ~ 2021\\n\\n\n",
       "1               \\n\\n\\n\\nJuventus\\n2018 ~ 2022\\n\\n\n",
       "2        \\n\\n\\n\\nAtlético Madrid\\n2014 ~ 2023\\n\\n\n",
       "3        \\n\\n\\n\\nManchester City\\n2015 ~ 2023\\n\\n\n",
       "4    \\n\\n\\n\\nParis Saint-Germain\\n2017 ~ 2022\\n\\n\n",
       "Name: Team & Contract, dtype: object"
      ]
     },
     "execution_count": 19,
     "metadata": {},
     "output_type": "execute_result"
    }
   ],
   "source": [
    "data['Team & Contract'].head()"
   ]
  },
  {
   "cell_type": "markdown",
   "id": "da2ff395",
   "metadata": {},
   "source": [
    "### Split:"
   ]
  },
  {
   "cell_type": "code",
   "execution_count": 20,
   "id": "dbcb42a5",
   "metadata": {},
   "outputs": [],
   "source": [
    "# Step 1: Strip leading and trailing newlines\n",
    "Team_Contract = data['Team & Contract'].str.strip()\n",
    "\n",
    "# Step 2: Split the string into Team and Contract using the newline character as the delimiter\n",
    "split_columns = Team_Contract.str.split('\\n', n=1, expand=True)\n",
    "\n",
    "# Assign the new columns\n",
    "data['Team'] = split_columns[0]\n",
    "data['Contract'] = split_columns[1]"
   ]
  },
  {
   "cell_type": "markdown",
   "id": "6de8c11f",
   "metadata": {},
   "source": [
    "### After:"
   ]
  },
  {
   "cell_type": "code",
   "execution_count": 21,
   "id": "94c4b845",
   "metadata": {},
   "outputs": [
    {
     "name": "stdout",
     "output_type": "stream",
     "text": [
      "                  Team     Contract\n",
      "0         FC Barcelona  2004 ~ 2021\n",
      "1             Juventus  2018 ~ 2022\n",
      "2      Atlético Madrid  2014 ~ 2023\n",
      "3      Manchester City  2015 ~ 2023\n",
      "4  Paris Saint-Germain  2017 ~ 2022\n"
     ]
    }
   ],
   "source": [
    "print(data[['Team', 'Contract']].head())"
   ]
  },
  {
   "cell_type": "code",
   "execution_count": null,
   "id": "12f2f219",
   "metadata": {},
   "outputs": [],
   "source": []
  },
  {
   "cell_type": "markdown",
   "id": "a1cd8eaf",
   "metadata": {},
   "source": [
    "## 6. Some columns have 'star' characters. Strip those columns of these stars and make the columns numerical:"
   ]
  },
  {
   "cell_type": "markdown",
   "id": "fe434119",
   "metadata": {},
   "source": [
    "### Before:"
   ]
  },
  {
   "cell_type": "code",
   "execution_count": 22,
   "id": "80fd944d",
   "metadata": {},
   "outputs": [
    {
     "name": "stdout",
     "output_type": "stream",
     "text": [
      "    IR  SM  W/F\n",
      "0  5 ★  4★  4 ★\n",
      "1  5 ★  5★  4 ★\n",
      "2  3 ★  1★  3 ★\n",
      "3  4 ★  4★  5 ★\n",
      "4  5 ★  5★  5 ★\n"
     ]
    }
   ],
   "source": [
    "print(data[['IR', 'SM', 'W/F']].head())"
   ]
  },
  {
   "cell_type": "markdown",
   "id": "5b19d8d8",
   "metadata": {},
   "source": [
    "### Manipulation:"
   ]
  },
  {
   "cell_type": "code",
   "execution_count": 23,
   "id": "6b7dd748",
   "metadata": {},
   "outputs": [],
   "source": [
    "for i, row in data[['IR', 'SM', 'W/F']].iterrows():\n",
    "    data['IR'] = int(row['IR'][0])\n",
    "    data['SM'] = int(row['SM'][0])\n",
    "    data['W/F'] = int(row['W/F'][0])\n",
    "    "
   ]
  },
  {
   "cell_type": "markdown",
   "id": "0d467bd4",
   "metadata": {},
   "source": [
    "### After:"
   ]
  },
  {
   "cell_type": "code",
   "execution_count": 24,
   "id": "c4bfcfbe",
   "metadata": {},
   "outputs": [
    {
     "data": {
      "text/html": [
       "<div>\n",
       "<style scoped>\n",
       "    .dataframe tbody tr th:only-of-type {\n",
       "        vertical-align: middle;\n",
       "    }\n",
       "\n",
       "    .dataframe tbody tr th {\n",
       "        vertical-align: top;\n",
       "    }\n",
       "\n",
       "    .dataframe thead th {\n",
       "        text-align: right;\n",
       "    }\n",
       "</style>\n",
       "<table border=\"1\" class=\"dataframe\">\n",
       "  <thead>\n",
       "    <tr style=\"text-align: right;\">\n",
       "      <th></th>\n",
       "      <th>IR</th>\n",
       "      <th>SM</th>\n",
       "      <th>W/F</th>\n",
       "    </tr>\n",
       "  </thead>\n",
       "  <tbody>\n",
       "    <tr>\n",
       "      <th>0</th>\n",
       "      <td>1</td>\n",
       "      <td>2</td>\n",
       "      <td>3</td>\n",
       "    </tr>\n",
       "    <tr>\n",
       "      <th>1</th>\n",
       "      <td>1</td>\n",
       "      <td>2</td>\n",
       "      <td>3</td>\n",
       "    </tr>\n",
       "    <tr>\n",
       "      <th>2</th>\n",
       "      <td>1</td>\n",
       "      <td>2</td>\n",
       "      <td>3</td>\n",
       "    </tr>\n",
       "    <tr>\n",
       "      <th>3</th>\n",
       "      <td>1</td>\n",
       "      <td>2</td>\n",
       "      <td>3</td>\n",
       "    </tr>\n",
       "    <tr>\n",
       "      <th>4</th>\n",
       "      <td>1</td>\n",
       "      <td>2</td>\n",
       "      <td>3</td>\n",
       "    </tr>\n",
       "    <tr>\n",
       "      <th>...</th>\n",
       "      <td>...</td>\n",
       "      <td>...</td>\n",
       "      <td>...</td>\n",
       "    </tr>\n",
       "    <tr>\n",
       "      <th>18974</th>\n",
       "      <td>1</td>\n",
       "      <td>2</td>\n",
       "      <td>3</td>\n",
       "    </tr>\n",
       "    <tr>\n",
       "      <th>18975</th>\n",
       "      <td>1</td>\n",
       "      <td>2</td>\n",
       "      <td>3</td>\n",
       "    </tr>\n",
       "    <tr>\n",
       "      <th>18976</th>\n",
       "      <td>1</td>\n",
       "      <td>2</td>\n",
       "      <td>3</td>\n",
       "    </tr>\n",
       "    <tr>\n",
       "      <th>18977</th>\n",
       "      <td>1</td>\n",
       "      <td>2</td>\n",
       "      <td>3</td>\n",
       "    </tr>\n",
       "    <tr>\n",
       "      <th>18978</th>\n",
       "      <td>1</td>\n",
       "      <td>2</td>\n",
       "      <td>3</td>\n",
       "    </tr>\n",
       "  </tbody>\n",
       "</table>\n",
       "<p>18979 rows × 3 columns</p>\n",
       "</div>"
      ],
      "text/plain": [
       "       IR  SM  W/F\n",
       "0       1   2    3\n",
       "1       1   2    3\n",
       "2       1   2    3\n",
       "3       1   2    3\n",
       "4       1   2    3\n",
       "...    ..  ..  ...\n",
       "18974   1   2    3\n",
       "18975   1   2    3\n",
       "18976   1   2    3\n",
       "18977   1   2    3\n",
       "18978   1   2    3\n",
       "\n",
       "[18979 rows x 3 columns]"
      ]
     },
     "execution_count": 24,
     "metadata": {},
     "output_type": "execute_result"
    }
   ],
   "source": [
    "data[['IR', 'SM', 'W/F']]"
   ]
  },
  {
   "cell_type": "code",
   "execution_count": null,
   "id": "f67b550e",
   "metadata": {},
   "outputs": [],
   "source": []
  },
  {
   "cell_type": "markdown",
   "id": "2dfd6119",
   "metadata": {},
   "source": [
    "### 7. Drop unnecessary columns:"
   ]
  },
  {
   "cell_type": "code",
   "execution_count": 25,
   "id": "dee24651",
   "metadata": {},
   "outputs": [],
   "source": [
    "data.drop(['photoUrl', 'LongName', 'playerUrl', 'Team & Contract'], axis=1, inplace=True)"
   ]
  },
  {
   "cell_type": "code",
   "execution_count": null,
   "id": "a66c3b62",
   "metadata": {},
   "outputs": [],
   "source": []
  },
  {
   "cell_type": "markdown",
   "id": "40420205",
   "metadata": {},
   "source": [
    "### 8. Fix naming convention:"
   ]
  },
  {
   "cell_type": "code",
   "execution_count": 26,
   "id": "d6496d0f",
   "metadata": {},
   "outputs": [],
   "source": [
    "data = data.rename(columns={'foot': 'Foot'})"
   ]
  },
  {
   "cell_type": "code",
   "execution_count": null,
   "id": "8fdcba51",
   "metadata": {},
   "outputs": [],
   "source": []
  },
  {
   "cell_type": "markdown",
   "id": "b058020e",
   "metadata": {},
   "source": [
    "### 9. Check for duplicates:"
   ]
  },
  {
   "cell_type": "code",
   "execution_count": 27,
   "id": "6ea10f73",
   "metadata": {},
   "outputs": [
    {
     "name": "stdout",
     "output_type": "stream",
     "text": [
      "Duplicates:  1\n",
      "Removed Duplicates.\n",
      "Duplicates:  0\n"
     ]
    }
   ],
   "source": [
    "print('Duplicates: ', data.duplicated().sum() )\n",
    "if data.duplicated().sum() > 0:\n",
    "    data.drop_duplicates(inplace=True)\n",
    "    print('Removed Duplicates.')\n",
    "    \n",
    "print('Duplicates: ', data.duplicated().sum() )"
   ]
  },
  {
   "cell_type": "code",
   "execution_count": null,
   "id": "67e56465",
   "metadata": {},
   "outputs": [],
   "source": []
  },
  {
   "cell_type": "markdown",
   "id": "e4eef76d",
   "metadata": {},
   "source": [
    "### 10. Check for missing values:"
   ]
  },
  {
   "cell_type": "code",
   "execution_count": 28,
   "id": "8a7f71fd",
   "metadata": {},
   "outputs": [
    {
     "data": {
      "text/plain": [
       "Nationality    0\n",
       "Positions      0\n",
       "Name           0\n",
       "Age            0\n",
       "↓OVA           0\n",
       "              ..\n",
       "Year           0\n",
       "Month          0\n",
       "Day            0\n",
       "Team           0\n",
       "Contract       0\n",
       "Length: 78, dtype: int64"
      ]
     },
     "execution_count": 28,
     "metadata": {},
     "output_type": "execute_result"
    }
   ],
   "source": [
    "data.isna().sum()"
   ]
  },
  {
   "cell_type": "code",
   "execution_count": null,
   "id": "7661403b",
   "metadata": {},
   "outputs": [],
   "source": []
  },
  {
   "cell_type": "markdown",
   "id": "f659598c",
   "metadata": {},
   "source": [
    "### 9. Which players are highly valuable but still underpaid (on low wages)?"
   ]
  },
  {
   "cell_type": "code",
   "execution_count": 29,
   "id": "915f9e89",
   "metadata": {},
   "outputs": [
    {
     "data": {
      "image/png": "[encoded data removed]",
      "text/plain": [
       "<Figure size 1000x600 with 1 Axes>"
      ]
     },
     "metadata": {},
     "output_type": "display_data"
    }
   ],
   "source": [
    "x = data['Wage']\n",
    "y = data['Value']\n",
    "\n",
    "# Create a scatter plot using seaborn\n",
    "plt.figure(figsize=(10,6))\n",
    "sns.scatterplot(x=x, y=y)\n",
    "plt.title('Scatter Plot between Wage and Value of Players')\n",
    "plt.xlabel('Wage (€)')\n",
    "plt.ylabel('Value (€)')\n",
    "\n",
    "# Show the plot\n",
    "plt.show()\n"
   ]
  },
  {
   "cell_type": "code",
   "execution_count": null,
   "id": "b1a1f5c4",
   "metadata": {},
   "outputs": [],
   "source": []
  },
  {
   "cell_type": "markdown",
   "id": "e96175a7",
   "metadata": {},
   "source": [
    "### 10. Check which players have been playing at a club for more than 10 years!"
   ]
  },
  {
   "cell_type": "code",
   "execution_count": 30,
   "id": "53678cb0",
   "metadata": {},
   "outputs": [],
   "source": [
    "current_year = datetime.now().year\n",
    "data['Years_At_Club'] = current_year - data['Year']"
   ]
  },
  {
   "cell_type": "code",
   "execution_count": 31,
   "id": "4a497b0d",
   "metadata": {},
   "outputs": [
    {
     "data": {
      "text/html": [
       "<div>\n",
       "<style scoped>\n",
       "    .dataframe tbody tr th:only-of-type {\n",
       "        vertical-align: middle;\n",
       "    }\n",
       "\n",
       "    .dataframe tbody tr th {\n",
       "        vertical-align: top;\n",
       "    }\n",
       "\n",
       "    .dataframe thead th {\n",
       "        text-align: right;\n",
       "    }\n",
       "</style>\n",
       "<table border=\"1\" class=\"dataframe\">\n",
       "  <thead>\n",
       "    <tr style=\"text-align: right;\">\n",
       "      <th></th>\n",
       "      <th>Joined</th>\n",
       "      <th>Years_At_Club</th>\n",
       "    </tr>\n",
       "    <tr>\n",
       "      <th>Name</th>\n",
       "      <th></th>\n",
       "      <th></th>\n",
       "    </tr>\n",
       "  </thead>\n",
       "  <tbody>\n",
       "    <tr>\n",
       "      <th>L. Messi</th>\n",
       "      <td>2004-07-01</td>\n",
       "      <td>20</td>\n",
       "    </tr>\n",
       "    <tr>\n",
       "      <th>Casemiro</th>\n",
       "      <td>2013-07-11</td>\n",
       "      <td>11</td>\n",
       "    </tr>\n",
       "    <tr>\n",
       "      <th>M. Neuer</th>\n",
       "      <td>2011-07-01</td>\n",
       "      <td>13</td>\n",
       "    </tr>\n",
       "    <tr>\n",
       "      <th>K. Benzema</th>\n",
       "      <td>2009-07-09</td>\n",
       "      <td>15</td>\n",
       "    </tr>\n",
       "    <tr>\n",
       "      <th>Sergio Ramos</th>\n",
       "      <td>2005-08-01</td>\n",
       "      <td>19</td>\n",
       "    </tr>\n",
       "    <tr>\n",
       "      <th>...</th>\n",
       "      <td>...</td>\n",
       "      <td>...</td>\n",
       "    </tr>\n",
       "    <tr>\n",
       "      <th>Yao Hanlin</th>\n",
       "      <td>2010-01-01</td>\n",
       "      <td>14</td>\n",
       "    </tr>\n",
       "    <tr>\n",
       "      <th>O. Al Sunain</th>\n",
       "      <td>2013-07-01</td>\n",
       "      <td>11</td>\n",
       "    </tr>\n",
       "    <tr>\n",
       "      <th>Chang Feiya</th>\n",
       "      <td>2013-01-01</td>\n",
       "      <td>11</td>\n",
       "    </tr>\n",
       "    <tr>\n",
       "      <th>Sun Shoubo</th>\n",
       "      <td>2013-02-15</td>\n",
       "      <td>11</td>\n",
       "    </tr>\n",
       "    <tr>\n",
       "      <th>B. Al Bahrani</th>\n",
       "      <td>2013-07-01</td>\n",
       "      <td>11</td>\n",
       "    </tr>\n",
       "  </tbody>\n",
       "</table>\n",
       "<p>690 rows × 2 columns</p>\n",
       "</div>"
      ],
      "text/plain": [
       "                  Joined  Years_At_Club\n",
       "Name                                   \n",
       "L. Messi      2004-07-01             20\n",
       "Casemiro      2013-07-11             11\n",
       "M. Neuer      2011-07-01             13\n",
       "K. Benzema    2009-07-09             15\n",
       "Sergio Ramos  2005-08-01             19\n",
       "...                  ...            ...\n",
       "Yao Hanlin    2010-01-01             14\n",
       "O. Al Sunain  2013-07-01             11\n",
       "Chang Feiya   2013-01-01             11\n",
       "Sun Shoubo    2013-02-15             11\n",
       "B. Al Bahrani 2013-07-01             11\n",
       "\n",
       "[690 rows x 2 columns]"
      ]
     },
     "execution_count": 31,
     "metadata": {},
     "output_type": "execute_result"
    }
   ],
   "source": [
    "players_more_than_10_years = data[data['Years_At_Club'] > 10]\n",
    "players_more_than_10_years[['Name', 'Joined', 'Years_At_Club']].set_index('Name')"
   ]
  },
  {
   "cell_type": "code",
   "execution_count": null,
   "id": "c523cf3c",
   "metadata": {},
   "outputs": [],
   "source": []
  }
 ],
 "metadata": {
  "kernelspec": {
   "display_name": "Python 3 (ipykernel)",
   "language": "python",
   "name": "python3"
  },
  "language_info": {
   "codemirror_mode": {
    "name": "ipython",
    "version": 3
   },
   "file_extension": ".py",
   "mimetype": "text/x-python",
   "name": "python",
   "nbconvert_exporter": "python",
   "pygments_lexer": "ipython3",
   "version": "3.11.5"
  }
 },
 "nbformat": 4,
 "nbformat_minor": 5
}
