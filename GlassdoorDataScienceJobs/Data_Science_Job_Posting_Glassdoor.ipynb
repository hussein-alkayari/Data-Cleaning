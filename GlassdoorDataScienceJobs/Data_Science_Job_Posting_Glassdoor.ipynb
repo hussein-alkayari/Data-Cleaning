{
 "cells": [
  {
   "cell_type": "markdown",
   "id": "3c800662",
   "metadata": {},
   "source": [
    "# Dataset Cleaninig of Data Science Job Posting on Glassdoor"
   ]
  },
  {
   "cell_type": "markdown",
   "id": "60dc9e94",
   "metadata": {},
   "source": [
    "## Web scrapped job posts from glassdoor for data science jobs"
   ]
  },
  {
   "cell_type": "markdown",
   "id": "045e4b34",
   "metadata": {},
   "source": [
    "### 0. Import necessary libraries:"
   ]
  },
  {
   "cell_type": "code",
   "execution_count": 1,
   "id": "41fc2a2e",
   "metadata": {},
   "outputs": [],
   "source": [
    "import numpy as np\n",
    "import pandas as pd\n",
    "import matplotlib.pyplot as plt"
   ]
  },
  {
   "cell_type": "code",
   "execution_count": null,
   "id": "273bf5a5",
   "metadata": {},
   "outputs": [],
   "source": []
  },
  {
   "cell_type": "markdown",
   "id": "dd7b2b21",
   "metadata": {},
   "source": [
    "### 1. Load and explore the data:"
   ]
  },
  {
   "cell_type": "code",
   "execution_count": 2,
   "id": "d291c8fa",
   "metadata": {},
   "outputs": [
    {
     "name": "stdout",
     "output_type": "stream",
     "text": [
      "Shape:  (672, 15)\n",
      "Columns: Index(['index', 'Job Title', 'Salary Estimate', 'Job Description', 'Rating',\n",
      "       'Company Name', 'Location', 'Headquarters', 'Size', 'Founded',\n",
      "       'Type of ownership', 'Industry', 'Sector', 'Revenue', 'Competitors'],\n",
      "      dtype='object')\n"
     ]
    },
    {
     "data": {
      "text/html": [
       "<div>\n",
       "<style scoped>\n",
       "    .dataframe tbody tr th:only-of-type {\n",
       "        vertical-align: middle;\n",
       "    }\n",
       "\n",
       "    .dataframe tbody tr th {\n",
       "        vertical-align: top;\n",
       "    }\n",
       "\n",
       "    .dataframe thead th {\n",
       "        text-align: right;\n",
       "    }\n",
       "</style>\n",
       "<table border=\"1\" class=\"dataframe\">\n",
       "  <thead>\n",
       "    <tr style=\"text-align: right;\">\n",
       "      <th></th>\n",
       "      <th>index</th>\n",
       "      <th>Job Title</th>\n",
       "      <th>Salary Estimate</th>\n",
       "      <th>Job Description</th>\n",
       "      <th>Rating</th>\n",
       "      <th>Company Name</th>\n",
       "      <th>Location</th>\n",
       "      <th>Headquarters</th>\n",
       "      <th>Size</th>\n",
       "      <th>Founded</th>\n",
       "      <th>Type of ownership</th>\n",
       "      <th>Industry</th>\n",
       "      <th>Sector</th>\n",
       "      <th>Revenue</th>\n",
       "      <th>Competitors</th>\n",
       "    </tr>\n",
       "  </thead>\n",
       "  <tbody>\n",
       "    <tr>\n",
       "      <th>0</th>\n",
       "      <td>0</td>\n",
       "      <td>Sr Data Scientist</td>\n",
       "      <td>$137K-$171K (Glassdoor est.)</td>\n",
       "      <td>Description\\n\\nThe Senior Data Scientist is re...</td>\n",
       "      <td>3.1</td>\n",
       "      <td>Healthfirst\\n3.1</td>\n",
       "      <td>New York, NY</td>\n",
       "      <td>New York, NY</td>\n",
       "      <td>1001 to 5000 employees</td>\n",
       "      <td>1993</td>\n",
       "      <td>Nonprofit Organization</td>\n",
       "      <td>Insurance Carriers</td>\n",
       "      <td>Insurance</td>\n",
       "      <td>Unknown / Non-Applicable</td>\n",
       "      <td>EmblemHealth, UnitedHealth Group, Aetna</td>\n",
       "    </tr>\n",
       "    <tr>\n",
       "      <th>1</th>\n",
       "      <td>1</td>\n",
       "      <td>Data Scientist</td>\n",
       "      <td>$137K-$171K (Glassdoor est.)</td>\n",
       "      <td>Secure our Nation, Ignite your Future\\n\\nJoin ...</td>\n",
       "      <td>4.2</td>\n",
       "      <td>ManTech\\n4.2</td>\n",
       "      <td>Chantilly, VA</td>\n",
       "      <td>Herndon, VA</td>\n",
       "      <td>5001 to 10000 employees</td>\n",
       "      <td>1968</td>\n",
       "      <td>Company - Public</td>\n",
       "      <td>Research &amp; Development</td>\n",
       "      <td>Business Services</td>\n",
       "      <td>$1 to $2 billion (USD)</td>\n",
       "      <td>-1</td>\n",
       "    </tr>\n",
       "    <tr>\n",
       "      <th>2</th>\n",
       "      <td>2</td>\n",
       "      <td>Data Scientist</td>\n",
       "      <td>$137K-$171K (Glassdoor est.)</td>\n",
       "      <td>Overview\\n\\n\\nAnalysis Group is one of the lar...</td>\n",
       "      <td>3.8</td>\n",
       "      <td>Analysis Group\\n3.8</td>\n",
       "      <td>Boston, MA</td>\n",
       "      <td>Boston, MA</td>\n",
       "      <td>1001 to 5000 employees</td>\n",
       "      <td>1981</td>\n",
       "      <td>Private Practice / Firm</td>\n",
       "      <td>Consulting</td>\n",
       "      <td>Business Services</td>\n",
       "      <td>$100 to $500 million (USD)</td>\n",
       "      <td>-1</td>\n",
       "    </tr>\n",
       "    <tr>\n",
       "      <th>3</th>\n",
       "      <td>3</td>\n",
       "      <td>Data Scientist</td>\n",
       "      <td>$137K-$171K (Glassdoor est.)</td>\n",
       "      <td>JOB DESCRIPTION:\\n\\nDo you have a passion for ...</td>\n",
       "      <td>3.5</td>\n",
       "      <td>INFICON\\n3.5</td>\n",
       "      <td>Newton, MA</td>\n",
       "      <td>Bad Ragaz, Switzerland</td>\n",
       "      <td>501 to 1000 employees</td>\n",
       "      <td>2000</td>\n",
       "      <td>Company - Public</td>\n",
       "      <td>Electrical &amp; Electronic Manufacturing</td>\n",
       "      <td>Manufacturing</td>\n",
       "      <td>$100 to $500 million (USD)</td>\n",
       "      <td>MKS Instruments, Pfeiffer Vacuum, Agilent Tech...</td>\n",
       "    </tr>\n",
       "    <tr>\n",
       "      <th>4</th>\n",
       "      <td>4</td>\n",
       "      <td>Data Scientist</td>\n",
       "      <td>$137K-$171K (Glassdoor est.)</td>\n",
       "      <td>Data Scientist\\nAffinity Solutions / Marketing...</td>\n",
       "      <td>2.9</td>\n",
       "      <td>Affinity Solutions\\n2.9</td>\n",
       "      <td>New York, NY</td>\n",
       "      <td>New York, NY</td>\n",
       "      <td>51 to 200 employees</td>\n",
       "      <td>1998</td>\n",
       "      <td>Company - Private</td>\n",
       "      <td>Advertising &amp; Marketing</td>\n",
       "      <td>Business Services</td>\n",
       "      <td>Unknown / Non-Applicable</td>\n",
       "      <td>Commerce Signals, Cardlytics, Yodlee</td>\n",
       "    </tr>\n",
       "  </tbody>\n",
       "</table>\n",
       "</div>"
      ],
      "text/plain": [
       "   index          Job Title               Salary Estimate  \\\n",
       "0      0  Sr Data Scientist  $137K-$171K (Glassdoor est.)   \n",
       "1      1     Data Scientist  $137K-$171K (Glassdoor est.)   \n",
       "2      2     Data Scientist  $137K-$171K (Glassdoor est.)   \n",
       "3      3     Data Scientist  $137K-$171K (Glassdoor est.)   \n",
       "4      4     Data Scientist  $137K-$171K (Glassdoor est.)   \n",
       "\n",
       "                                     Job Description  Rating  \\\n",
       "0  Description\\n\\nThe Senior Data Scientist is re...     3.1   \n",
       "1  Secure our Nation, Ignite your Future\\n\\nJoin ...     4.2   \n",
       "2  Overview\\n\\n\\nAnalysis Group is one of the lar...     3.8   \n",
       "3  JOB DESCRIPTION:\\n\\nDo you have a passion for ...     3.5   \n",
       "4  Data Scientist\\nAffinity Solutions / Marketing...     2.9   \n",
       "\n",
       "              Company Name       Location            Headquarters  \\\n",
       "0         Healthfirst\\n3.1   New York, NY            New York, NY   \n",
       "1             ManTech\\n4.2  Chantilly, VA             Herndon, VA   \n",
       "2      Analysis Group\\n3.8     Boston, MA              Boston, MA   \n",
       "3             INFICON\\n3.5     Newton, MA  Bad Ragaz, Switzerland   \n",
       "4  Affinity Solutions\\n2.9   New York, NY            New York, NY   \n",
       "\n",
       "                      Size  Founded        Type of ownership  \\\n",
       "0   1001 to 5000 employees     1993   Nonprofit Organization   \n",
       "1  5001 to 10000 employees     1968         Company - Public   \n",
       "2   1001 to 5000 employees     1981  Private Practice / Firm   \n",
       "3    501 to 1000 employees     2000         Company - Public   \n",
       "4      51 to 200 employees     1998        Company - Private   \n",
       "\n",
       "                                Industry             Sector  \\\n",
       "0                     Insurance Carriers          Insurance   \n",
       "1                 Research & Development  Business Services   \n",
       "2                             Consulting  Business Services   \n",
       "3  Electrical & Electronic Manufacturing      Manufacturing   \n",
       "4                Advertising & Marketing  Business Services   \n",
       "\n",
       "                      Revenue  \\\n",
       "0    Unknown / Non-Applicable   \n",
       "1      $1 to $2 billion (USD)   \n",
       "2  $100 to $500 million (USD)   \n",
       "3  $100 to $500 million (USD)   \n",
       "4    Unknown / Non-Applicable   \n",
       "\n",
       "                                         Competitors  \n",
       "0            EmblemHealth, UnitedHealth Group, Aetna  \n",
       "1                                                 -1  \n",
       "2                                                 -1  \n",
       "3  MKS Instruments, Pfeiffer Vacuum, Agilent Tech...  \n",
       "4               Commerce Signals, Cardlytics, Yodlee  "
      ]
     },
     "execution_count": 2,
     "metadata": {},
     "output_type": "execute_result"
    }
   ],
   "source": [
    "path_to_data = \"Path/To/Your/Raw_DS_jobs.csv\"\n",
    "data = pd.read_csv(path_to_data)\n",
    "\n",
    "print('Shape: ', data.shape)\n",
    "print('Columns:', data.columns)\n",
    "data.head()"
   ]
  },
  {
   "cell_type": "code",
   "execution_count": 3,
   "id": "9ed303e1",
   "metadata": {},
   "outputs": [
    {
     "name": "stdout",
     "output_type": "stream",
     "text": [
      "<class 'pandas.core.frame.DataFrame'>\n",
      "RangeIndex: 672 entries, 0 to 671\n",
      "Data columns (total 15 columns):\n",
      " #   Column             Non-Null Count  Dtype  \n",
      "---  ------             --------------  -----  \n",
      " 0   index              672 non-null    int64  \n",
      " 1   Job Title          672 non-null    object \n",
      " 2   Salary Estimate    672 non-null    object \n",
      " 3   Job Description    672 non-null    object \n",
      " 4   Rating             672 non-null    float64\n",
      " 5   Company Name       672 non-null    object \n",
      " 6   Location           672 non-null    object \n",
      " 7   Headquarters       672 non-null    object \n",
      " 8   Size               672 non-null    object \n",
      " 9   Founded            672 non-null    int64  \n",
      " 10  Type of ownership  672 non-null    object \n",
      " 11  Industry           672 non-null    object \n",
      " 12  Sector             672 non-null    object \n",
      " 13  Revenue            672 non-null    object \n",
      " 14  Competitors        672 non-null    object \n",
      "dtypes: float64(1), int64(2), object(12)\n",
      "memory usage: 78.9+ KB\n"
     ]
    }
   ],
   "source": [
    "data.info()"
   ]
  },
  {
   "cell_type": "code",
   "execution_count": null,
   "id": "f4393dbb",
   "metadata": {},
   "outputs": [],
   "source": []
  },
  {
   "cell_type": "markdown",
   "id": "0824b544",
   "metadata": {},
   "source": [
    "### 2. Check for duplicates:"
   ]
  },
  {
   "cell_type": "code",
   "execution_count": 4,
   "id": "1badba08",
   "metadata": {},
   "outputs": [
    {
     "name": "stdout",
     "output_type": "stream",
     "text": [
      "Duplicates:  0\n",
      "Duplicates:  0\n"
     ]
    }
   ],
   "source": [
    "print('Duplicates: ', data.duplicated().sum())\n",
    "if data.duplicated().sum() > 0:\n",
    "    data.drop_duplicates(inplace=True)\n",
    "    print('Removed Duplicates Successfully.')\n",
    "\n",
    "print('Duplicates: ', data.duplicated().sum())"
   ]
  },
  {
   "cell_type": "code",
   "execution_count": null,
   "id": "37156177",
   "metadata": {},
   "outputs": [],
   "source": []
  },
  {
   "cell_type": "markdown",
   "id": "88ff652f",
   "metadata": {},
   "source": [
    "### 3. Check for missing values:"
   ]
  },
  {
   "cell_type": "code",
   "execution_count": 5,
   "id": "3eb8cbbc",
   "metadata": {},
   "outputs": [
    {
     "data": {
      "text/plain": [
       "index                0\n",
       "Job Title            0\n",
       "Salary Estimate      0\n",
       "Job Description      0\n",
       "Rating               0\n",
       "Company Name         0\n",
       "Location             0\n",
       "Headquarters         0\n",
       "Size                 0\n",
       "Founded              0\n",
       "Type of ownership    0\n",
       "Industry             0\n",
       "Sector               0\n",
       "Revenue              0\n",
       "Competitors          0\n",
       "dtype: int64"
      ]
     },
     "execution_count": 5,
     "metadata": {},
     "output_type": "execute_result"
    }
   ],
   "source": [
    "data.isna().sum()"
   ]
  },
  {
   "cell_type": "code",
   "execution_count": null,
   "id": "6fd3415f",
   "metadata": {},
   "outputs": [],
   "source": []
  },
  {
   "cell_type": "markdown",
   "id": "e144f79b",
   "metadata": {},
   "source": [
    "### 4. Make the Salary column into integers:"
   ]
  },
  {
   "cell_type": "code",
   "execution_count": 6,
   "id": "6795cb4a",
   "metadata": {},
   "outputs": [
    {
     "name": "stdout",
     "output_type": "stream",
     "text": [
      "Current Data Type of Salary:  <class 'str'>\n"
     ]
    },
    {
     "data": {
      "text/plain": [
       "0      $137K-$171K (Glassdoor est.)\n",
       "1      $137K-$171K (Glassdoor est.)\n",
       "2      $137K-$171K (Glassdoor est.)\n",
       "3      $137K-$171K (Glassdoor est.)\n",
       "4      $137K-$171K (Glassdoor est.)\n",
       "                   ...             \n",
       "667    $105K-$167K (Glassdoor est.)\n",
       "668    $105K-$167K (Glassdoor est.)\n",
       "669    $105K-$167K (Glassdoor est.)\n",
       "670    $105K-$167K (Glassdoor est.)\n",
       "671    $105K-$167K (Glassdoor est.)\n",
       "Name: Salary Estimate, Length: 672, dtype: object"
      ]
     },
     "execution_count": 6,
     "metadata": {},
     "output_type": "execute_result"
    }
   ],
   "source": [
    "print('Current Data Type of Salary: ', type(data['Salary Estimate'][0]))\n",
    "data['Salary Estimate']"
   ]
  },
  {
   "cell_type": "code",
   "execution_count": 7,
   "id": "ddc6c906",
   "metadata": {},
   "outputs": [],
   "source": [
    "# remove text from column, \n",
    "# split numbers into two columns, \n",
    "    # remove $ sign,\n",
    "    # replace K by proper number (*1000),  \n",
    "    # convert number to integer\n",
    "# merge two columns in one column as a dictionary of ranges oder so"
   ]
  },
  {
   "cell_type": "code",
   "execution_count": 8,
   "id": "d1371fdc",
   "metadata": {},
   "outputs": [],
   "source": [
    "data['Salary Estimate'] = data['Salary Estimate'].replace(r'\\(.*\\)', '', regex=True)"
   ]
  },
  {
   "cell_type": "code",
   "execution_count": 9,
   "id": "9cc8d3a0",
   "metadata": {},
   "outputs": [
    {
     "data": {
      "text/plain": [
       "0      $137K-$171K \n",
       "1      $137K-$171K \n",
       "2      $137K-$171K \n",
       "3      $137K-$171K \n",
       "4      $137K-$171K \n",
       "           ...     \n",
       "667    $105K-$167K \n",
       "668    $105K-$167K \n",
       "669    $105K-$167K \n",
       "670    $105K-$167K \n",
       "671    $105K-$167K \n",
       "Name: Salary Estimate, Length: 672, dtype: object"
      ]
     },
     "execution_count": 9,
     "metadata": {},
     "output_type": "execute_result"
    }
   ],
   "source": [
    "data['Salary Estimate']"
   ]
  },
  {
   "cell_type": "code",
   "execution_count": 10,
   "id": "896a5baa",
   "metadata": {},
   "outputs": [],
   "source": [
    "data[['Salary Min', 'Salary Max']] = data['Salary Estimate'].str.split('-', expand=True)"
   ]
  },
  {
   "cell_type": "code",
   "execution_count": 11,
   "id": "2324ef39",
   "metadata": {},
   "outputs": [
    {
     "data": {
      "text/html": [
       "<div>\n",
       "<style scoped>\n",
       "    .dataframe tbody tr th:only-of-type {\n",
       "        vertical-align: middle;\n",
       "    }\n",
       "\n",
       "    .dataframe tbody tr th {\n",
       "        vertical-align: top;\n",
       "    }\n",
       "\n",
       "    .dataframe thead th {\n",
       "        text-align: right;\n",
       "    }\n",
       "</style>\n",
       "<table border=\"1\" class=\"dataframe\">\n",
       "  <thead>\n",
       "    <tr style=\"text-align: right;\">\n",
       "      <th></th>\n",
       "      <th>Salary Min</th>\n",
       "      <th>Salary Max</th>\n",
       "    </tr>\n",
       "  </thead>\n",
       "  <tbody>\n",
       "    <tr>\n",
       "      <th>0</th>\n",
       "      <td>$137K</td>\n",
       "      <td>$171K</td>\n",
       "    </tr>\n",
       "    <tr>\n",
       "      <th>1</th>\n",
       "      <td>$137K</td>\n",
       "      <td>$171K</td>\n",
       "    </tr>\n",
       "    <tr>\n",
       "      <th>2</th>\n",
       "      <td>$137K</td>\n",
       "      <td>$171K</td>\n",
       "    </tr>\n",
       "    <tr>\n",
       "      <th>3</th>\n",
       "      <td>$137K</td>\n",
       "      <td>$171K</td>\n",
       "    </tr>\n",
       "    <tr>\n",
       "      <th>4</th>\n",
       "      <td>$137K</td>\n",
       "      <td>$171K</td>\n",
       "    </tr>\n",
       "    <tr>\n",
       "      <th>...</th>\n",
       "      <td>...</td>\n",
       "      <td>...</td>\n",
       "    </tr>\n",
       "    <tr>\n",
       "      <th>667</th>\n",
       "      <td>$105K</td>\n",
       "      <td>$167K</td>\n",
       "    </tr>\n",
       "    <tr>\n",
       "      <th>668</th>\n",
       "      <td>$105K</td>\n",
       "      <td>$167K</td>\n",
       "    </tr>\n",
       "    <tr>\n",
       "      <th>669</th>\n",
       "      <td>$105K</td>\n",
       "      <td>$167K</td>\n",
       "    </tr>\n",
       "    <tr>\n",
       "      <th>670</th>\n",
       "      <td>$105K</td>\n",
       "      <td>$167K</td>\n",
       "    </tr>\n",
       "    <tr>\n",
       "      <th>671</th>\n",
       "      <td>$105K</td>\n",
       "      <td>$167K</td>\n",
       "    </tr>\n",
       "  </tbody>\n",
       "</table>\n",
       "<p>672 rows × 2 columns</p>\n",
       "</div>"
      ],
      "text/plain": [
       "    Salary Min Salary Max\n",
       "0        $137K     $171K \n",
       "1        $137K     $171K \n",
       "2        $137K     $171K \n",
       "3        $137K     $171K \n",
       "4        $137K     $171K \n",
       "..         ...        ...\n",
       "667      $105K     $167K \n",
       "668      $105K     $167K \n",
       "669      $105K     $167K \n",
       "670      $105K     $167K \n",
       "671      $105K     $167K \n",
       "\n",
       "[672 rows x 2 columns]"
      ]
     },
     "execution_count": 11,
     "metadata": {},
     "output_type": "execute_result"
    }
   ],
   "source": [
    "data[['Salary Min', 'Salary Max']]"
   ]
  },
  {
   "cell_type": "code",
   "execution_count": 12,
   "id": "a515d1ec",
   "metadata": {},
   "outputs": [],
   "source": [
    "def transform_salary(value):\n",
    "    \n",
    "    if isinstance(value, str):\n",
    "        value = int(value.replace('$', '').replace('K', '')) * 1000\n",
    "    \n",
    "    return value"
   ]
  },
  {
   "cell_type": "code",
   "execution_count": 13,
   "id": "f81653fd",
   "metadata": {},
   "outputs": [],
   "source": [
    "data['Salary Min'] = data['Salary Min'].apply(transform_salary)\n",
    "data['Salary Max'] = data['Salary Max'].apply(transform_salary)"
   ]
  },
  {
   "cell_type": "code",
   "execution_count": 14,
   "id": "a41e66c3",
   "metadata": {},
   "outputs": [
    {
     "data": {
      "text/html": [
       "<div>\n",
       "<style scoped>\n",
       "    .dataframe tbody tr th:only-of-type {\n",
       "        vertical-align: middle;\n",
       "    }\n",
       "\n",
       "    .dataframe tbody tr th {\n",
       "        vertical-align: top;\n",
       "    }\n",
       "\n",
       "    .dataframe thead th {\n",
       "        text-align: right;\n",
       "    }\n",
       "</style>\n",
       "<table border=\"1\" class=\"dataframe\">\n",
       "  <thead>\n",
       "    <tr style=\"text-align: right;\">\n",
       "      <th></th>\n",
       "      <th>Salary Min</th>\n",
       "      <th>Salary Max</th>\n",
       "    </tr>\n",
       "  </thead>\n",
       "  <tbody>\n",
       "    <tr>\n",
       "      <th>0</th>\n",
       "      <td>137000</td>\n",
       "      <td>171000</td>\n",
       "    </tr>\n",
       "    <tr>\n",
       "      <th>1</th>\n",
       "      <td>137000</td>\n",
       "      <td>171000</td>\n",
       "    </tr>\n",
       "    <tr>\n",
       "      <th>2</th>\n",
       "      <td>137000</td>\n",
       "      <td>171000</td>\n",
       "    </tr>\n",
       "    <tr>\n",
       "      <th>3</th>\n",
       "      <td>137000</td>\n",
       "      <td>171000</td>\n",
       "    </tr>\n",
       "    <tr>\n",
       "      <th>4</th>\n",
       "      <td>137000</td>\n",
       "      <td>171000</td>\n",
       "    </tr>\n",
       "    <tr>\n",
       "      <th>...</th>\n",
       "      <td>...</td>\n",
       "      <td>...</td>\n",
       "    </tr>\n",
       "    <tr>\n",
       "      <th>667</th>\n",
       "      <td>105000</td>\n",
       "      <td>167000</td>\n",
       "    </tr>\n",
       "    <tr>\n",
       "      <th>668</th>\n",
       "      <td>105000</td>\n",
       "      <td>167000</td>\n",
       "    </tr>\n",
       "    <tr>\n",
       "      <th>669</th>\n",
       "      <td>105000</td>\n",
       "      <td>167000</td>\n",
       "    </tr>\n",
       "    <tr>\n",
       "      <th>670</th>\n",
       "      <td>105000</td>\n",
       "      <td>167000</td>\n",
       "    </tr>\n",
       "    <tr>\n",
       "      <th>671</th>\n",
       "      <td>105000</td>\n",
       "      <td>167000</td>\n",
       "    </tr>\n",
       "  </tbody>\n",
       "</table>\n",
       "<p>672 rows × 2 columns</p>\n",
       "</div>"
      ],
      "text/plain": [
       "     Salary Min  Salary Max\n",
       "0        137000      171000\n",
       "1        137000      171000\n",
       "2        137000      171000\n",
       "3        137000      171000\n",
       "4        137000      171000\n",
       "..          ...         ...\n",
       "667      105000      167000\n",
       "668      105000      167000\n",
       "669      105000      167000\n",
       "670      105000      167000\n",
       "671      105000      167000\n",
       "\n",
       "[672 rows x 2 columns]"
      ]
     },
     "execution_count": 14,
     "metadata": {},
     "output_type": "execute_result"
    }
   ],
   "source": [
    "data[['Salary Min', 'Salary Max']]"
   ]
  },
  {
   "cell_type": "code",
   "execution_count": 15,
   "id": "e647c709",
   "metadata": {},
   "outputs": [],
   "source": [
    "data[\"Average Salary\"] = (data[\"Salary Max\"] + data[\"Salary Min\"]) //2"
   ]
  },
  {
   "cell_type": "code",
   "execution_count": 16,
   "id": "37205676",
   "metadata": {},
   "outputs": [
    {
     "data": {
      "text/plain": [
       "0      154000\n",
       "1      154000\n",
       "2      154000\n",
       "3      154000\n",
       "4      154000\n",
       "        ...  \n",
       "667    136000\n",
       "668    136000\n",
       "669    136000\n",
       "670    136000\n",
       "671    136000\n",
       "Name: Average Salary, Length: 672, dtype: int64"
      ]
     },
     "execution_count": 16,
     "metadata": {},
     "output_type": "execute_result"
    }
   ],
   "source": [
    "data['Average Salary']"
   ]
  },
  {
   "cell_type": "code",
   "execution_count": 17,
   "id": "b0e32749",
   "metadata": {},
   "outputs": [],
   "source": [
    "data['Salary Range'] = data['Salary Min'].astype(str) + '-' + data['Salary Max'].astype(str)"
   ]
  },
  {
   "cell_type": "code",
   "execution_count": 18,
   "id": "1a535c07",
   "metadata": {},
   "outputs": [
    {
     "data": {
      "text/plain": [
       "0      137000-171000\n",
       "1      137000-171000\n",
       "2      137000-171000\n",
       "3      137000-171000\n",
       "4      137000-171000\n",
       "           ...      \n",
       "667    105000-167000\n",
       "668    105000-167000\n",
       "669    105000-167000\n",
       "670    105000-167000\n",
       "671    105000-167000\n",
       "Name: Salary Range, Length: 672, dtype: object"
      ]
     },
     "execution_count": 18,
     "metadata": {},
     "output_type": "execute_result"
    }
   ],
   "source": [
    "data['Salary Range'] "
   ]
  },
  {
   "cell_type": "code",
   "execution_count": null,
   "id": "3875cc80",
   "metadata": {},
   "outputs": [],
   "source": []
  },
  {
   "cell_type": "markdown",
   "id": "ce84ec1e",
   "metadata": {},
   "source": [
    "### 5. Remove numbers from Company Name"
   ]
  },
  {
   "cell_type": "code",
   "execution_count": 19,
   "id": "8cdb3c6e",
   "metadata": {},
   "outputs": [
    {
     "data": {
      "text/plain": [
       "0               Healthfirst\\n3.1\n",
       "1                   ManTech\\n4.2\n",
       "2            Analysis Group\\n3.8\n",
       "3                   INFICON\\n3.5\n",
       "4        Affinity Solutions\\n2.9\n",
       "                 ...            \n",
       "667                TRANZACT\\n3.6\n",
       "668                         JKGT\n",
       "669                   AccessHope\n",
       "670    ChaTeck Incorporated\\n5.0\n",
       "671           1-800-Flowers\\n2.7\n",
       "Name: Company Name, Length: 672, dtype: object"
      ]
     },
     "execution_count": 19,
     "metadata": {},
     "output_type": "execute_result"
    }
   ],
   "source": [
    "data['Company Name']"
   ]
  },
  {
   "cell_type": "code",
   "execution_count": 20,
   "id": "97e2d453",
   "metadata": {},
   "outputs": [],
   "source": [
    "data['Company Name'] = data['Company Name'].str.replace(r'\\n\\d+(\\.\\d+)?', '', regex=True)"
   ]
  },
  {
   "cell_type": "code",
   "execution_count": 21,
   "id": "c4007a07",
   "metadata": {},
   "outputs": [
    {
     "data": {
      "text/plain": [
       "0               Healthfirst\n",
       "1                   ManTech\n",
       "2            Analysis Group\n",
       "3                   INFICON\n",
       "4        Affinity Solutions\n",
       "               ...         \n",
       "667                TRANZACT\n",
       "668                    JKGT\n",
       "669              AccessHope\n",
       "670    ChaTeck Incorporated\n",
       "671           1-800-Flowers\n",
       "Name: Company Name, Length: 672, dtype: object"
      ]
     },
     "execution_count": 21,
     "metadata": {},
     "output_type": "execute_result"
    }
   ],
   "source": [
    "data['Company Name'] "
   ]
  },
  {
   "cell_type": "code",
   "execution_count": null,
   "id": "942845b2",
   "metadata": {},
   "outputs": [],
   "source": []
  },
  {
   "cell_type": "markdown",
   "id": "8590f4ee",
   "metadata": {},
   "source": [
    "### 6. Create new feature: State column from Location column:"
   ]
  },
  {
   "cell_type": "code",
   "execution_count": 22,
   "id": "6956db16",
   "metadata": {},
   "outputs": [
    {
     "data": {
      "text/plain": [
       "0           New York, NY\n",
       "1          Chantilly, VA\n",
       "2             Boston, MA\n",
       "3             Newton, MA\n",
       "4           New York, NY\n",
       "             ...        \n",
       "667         Fort Lee, NJ\n",
       "668    San Francisco, CA\n",
       "669        Irwindale, CA\n",
       "670    San Francisco, CA\n",
       "671         New York, NY\n",
       "Name: Location, Length: 672, dtype: object"
      ]
     },
     "execution_count": 22,
     "metadata": {},
     "output_type": "execute_result"
    }
   ],
   "source": [
    "data['Location']"
   ]
  },
  {
   "cell_type": "code",
   "execution_count": 23,
   "id": "1e66beb8",
   "metadata": {},
   "outputs": [],
   "source": [
    "data[['City', 'State Code']] = data['Location'].str.split(', ', expand=True, n=1)"
   ]
  },
  {
   "cell_type": "code",
   "execution_count": 24,
   "id": "d1f82a8e",
   "metadata": {},
   "outputs": [
    {
     "data": {
      "text/html": [
       "<div>\n",
       "<style scoped>\n",
       "    .dataframe tbody tr th:only-of-type {\n",
       "        vertical-align: middle;\n",
       "    }\n",
       "\n",
       "    .dataframe tbody tr th {\n",
       "        vertical-align: top;\n",
       "    }\n",
       "\n",
       "    .dataframe thead th {\n",
       "        text-align: right;\n",
       "    }\n",
       "</style>\n",
       "<table border=\"1\" class=\"dataframe\">\n",
       "  <thead>\n",
       "    <tr style=\"text-align: right;\">\n",
       "      <th></th>\n",
       "      <th>City</th>\n",
       "      <th>State Code</th>\n",
       "    </tr>\n",
       "  </thead>\n",
       "  <tbody>\n",
       "    <tr>\n",
       "      <th>0</th>\n",
       "      <td>New York</td>\n",
       "      <td>NY</td>\n",
       "    </tr>\n",
       "    <tr>\n",
       "      <th>1</th>\n",
       "      <td>Chantilly</td>\n",
       "      <td>VA</td>\n",
       "    </tr>\n",
       "    <tr>\n",
       "      <th>2</th>\n",
       "      <td>Boston</td>\n",
       "      <td>MA</td>\n",
       "    </tr>\n",
       "    <tr>\n",
       "      <th>3</th>\n",
       "      <td>Newton</td>\n",
       "      <td>MA</td>\n",
       "    </tr>\n",
       "    <tr>\n",
       "      <th>4</th>\n",
       "      <td>New York</td>\n",
       "      <td>NY</td>\n",
       "    </tr>\n",
       "    <tr>\n",
       "      <th>...</th>\n",
       "      <td>...</td>\n",
       "      <td>...</td>\n",
       "    </tr>\n",
       "    <tr>\n",
       "      <th>667</th>\n",
       "      <td>Fort Lee</td>\n",
       "      <td>NJ</td>\n",
       "    </tr>\n",
       "    <tr>\n",
       "      <th>668</th>\n",
       "      <td>San Francisco</td>\n",
       "      <td>CA</td>\n",
       "    </tr>\n",
       "    <tr>\n",
       "      <th>669</th>\n",
       "      <td>Irwindale</td>\n",
       "      <td>CA</td>\n",
       "    </tr>\n",
       "    <tr>\n",
       "      <th>670</th>\n",
       "      <td>San Francisco</td>\n",
       "      <td>CA</td>\n",
       "    </tr>\n",
       "    <tr>\n",
       "      <th>671</th>\n",
       "      <td>New York</td>\n",
       "      <td>NY</td>\n",
       "    </tr>\n",
       "  </tbody>\n",
       "</table>\n",
       "<p>672 rows × 2 columns</p>\n",
       "</div>"
      ],
      "text/plain": [
       "              City State Code\n",
       "0         New York         NY\n",
       "1        Chantilly         VA\n",
       "2           Boston         MA\n",
       "3           Newton         MA\n",
       "4         New York         NY\n",
       "..             ...        ...\n",
       "667       Fort Lee         NJ\n",
       "668  San Francisco         CA\n",
       "669      Irwindale         CA\n",
       "670  San Francisco         CA\n",
       "671       New York         NY\n",
       "\n",
       "[672 rows x 2 columns]"
      ]
     },
     "execution_count": 24,
     "metadata": {},
     "output_type": "execute_result"
    }
   ],
   "source": [
    "data[['City', 'State Code']] "
   ]
  },
  {
   "cell_type": "code",
   "execution_count": 25,
   "id": "3917ab37",
   "metadata": {},
   "outputs": [
    {
     "data": {
      "text/plain": [
       "Index(['index', 'Job Title', 'Salary Estimate', 'Job Description', 'Rating',\n",
       "       'Company Name', 'Location', 'Headquarters', 'Size', 'Founded',\n",
       "       'Type of ownership', 'Industry', 'Sector', 'Revenue', 'Competitors',\n",
       "       'Salary Min', 'Salary Max', 'Average Salary', 'Salary Range', 'City',\n",
       "       'State Code'],\n",
       "      dtype='object')"
      ]
     },
     "execution_count": 25,
     "metadata": {},
     "output_type": "execute_result"
    }
   ],
   "source": [
    "data.columns"
   ]
  },
  {
   "cell_type": "markdown",
   "id": "c1c58933",
   "metadata": {},
   "source": [
    "### 7. Drop unnecessary columns: "
   ]
  },
  {
   "cell_type": "code",
   "execution_count": 26,
   "id": "ba692a63",
   "metadata": {},
   "outputs": [],
   "source": [
    "columns_to_drop = ['index', 'Salary Estimate', 'Location', 'Founded']\n",
    "\n",
    "data.drop(columns_to_drop, axis=1, inplace=True)"
   ]
  },
  {
   "cell_type": "code",
   "execution_count": 27,
   "id": "c24625eb",
   "metadata": {},
   "outputs": [
    {
     "data": {
      "text/plain": [
       "Index(['Job Title', 'Job Description', 'Rating', 'Company Name',\n",
       "       'Headquarters', 'Size', 'Type of ownership', 'Industry', 'Sector',\n",
       "       'Revenue', 'Competitors', 'Salary Min', 'Salary Max', 'Average Salary',\n",
       "       'Salary Range', 'City', 'State Code'],\n",
       "      dtype='object')"
      ]
     },
     "execution_count": 27,
     "metadata": {},
     "output_type": "execute_result"
    }
   ],
   "source": [
    "data.columns"
   ]
  },
  {
   "cell_type": "code",
   "execution_count": null,
   "id": "7ebfe940",
   "metadata": {},
   "outputs": [],
   "source": []
  },
  {
   "cell_type": "markdown",
   "id": "c76899df",
   "metadata": {},
   "source": [
    "### 8. Fix naming convention:"
   ]
  },
  {
   "cell_type": "code",
   "execution_count": 28,
   "id": "3dcf818b",
   "metadata": {},
   "outputs": [],
   "source": [
    "# Change the columns to a snake based format\n",
    "data.rename(columns= lambda header: header.lower().replace(\" \",\"_\"), inplace= True)"
   ]
  },
  {
   "cell_type": "code",
   "execution_count": 29,
   "id": "b4ae0077",
   "metadata": {},
   "outputs": [
    {
     "data": {
      "text/plain": [
       "Index(['job_title', 'job_description', 'rating', 'company_name',\n",
       "       'headquarters', 'size', 'type_of_ownership', 'industry', 'sector',\n",
       "       'revenue', 'competitors', 'salary_min', 'salary_max', 'average_salary',\n",
       "       'salary_range', 'city', 'state_code'],\n",
       "      dtype='object')"
      ]
     },
     "execution_count": 29,
     "metadata": {},
     "output_type": "execute_result"
    }
   ],
   "source": [
    "data.columns"
   ]
  },
  {
   "cell_type": "code",
   "execution_count": null,
   "id": "8a21000a",
   "metadata": {},
   "outputs": [],
   "source": []
  },
  {
   "cell_type": "markdown",
   "id": "8c666afb",
   "metadata": {},
   "source": [
    "### 9. Check the '-1' entries in the competitors column:"
   ]
  },
  {
   "cell_type": "code",
   "execution_count": 30,
   "id": "6130ac3e",
   "metadata": {},
   "outputs": [
    {
     "data": {
      "text/plain": [
       "competitors\n",
       "-1    501\n",
       "Name: count, dtype: int64"
      ]
     },
     "execution_count": 30,
     "metadata": {},
     "output_type": "execute_result"
    }
   ],
   "source": [
    "data.loc[data[\"competitors\"] == \"-1\",\"competitors\"].value_counts()"
   ]
  },
  {
   "cell_type": "code",
   "execution_count": 31,
   "id": "8f2469a6",
   "metadata": {},
   "outputs": [],
   "source": [
    "## we can see that, there are 501 rows with the value of '-1' out of 672.\n",
    "## It is better to drop this column since it has no informative or useful content"
   ]
  },
  {
   "cell_type": "code",
   "execution_count": 32,
   "id": "499cbb8e",
   "metadata": {},
   "outputs": [],
   "source": [
    "data.drop(\"competitors\", axis=1, inplace=True)"
   ]
  },
  {
   "cell_type": "code",
   "execution_count": 33,
   "id": "e09dd533",
   "metadata": {},
   "outputs": [
    {
     "data": {
      "text/plain": [
       "Index(['job_title', 'job_description', 'rating', 'company_name',\n",
       "       'headquarters', 'size', 'type_of_ownership', 'industry', 'sector',\n",
       "       'revenue', 'salary_min', 'salary_max', 'average_salary', 'salary_range',\n",
       "       'city', 'state_code'],\n",
       "      dtype='object')"
      ]
     },
     "execution_count": 33,
     "metadata": {},
     "output_type": "execute_result"
    }
   ],
   "source": [
    "data.columns"
   ]
  },
  {
   "cell_type": "code",
   "execution_count": 34,
   "id": "085aa52d",
   "metadata": {},
   "outputs": [
    {
     "data": {
      "text/html": [
       "<div>\n",
       "<style scoped>\n",
       "    .dataframe tbody tr th:only-of-type {\n",
       "        vertical-align: middle;\n",
       "    }\n",
       "\n",
       "    .dataframe tbody tr th {\n",
       "        vertical-align: top;\n",
       "    }\n",
       "\n",
       "    .dataframe thead th {\n",
       "        text-align: right;\n",
       "    }\n",
       "</style>\n",
       "<table border=\"1\" class=\"dataframe\">\n",
       "  <thead>\n",
       "    <tr style=\"text-align: right;\">\n",
       "      <th></th>\n",
       "      <th>job_title</th>\n",
       "      <th>job_description</th>\n",
       "      <th>rating</th>\n",
       "      <th>company_name</th>\n",
       "      <th>headquarters</th>\n",
       "      <th>size</th>\n",
       "      <th>type_of_ownership</th>\n",
       "      <th>industry</th>\n",
       "      <th>sector</th>\n",
       "      <th>revenue</th>\n",
       "      <th>salary_min</th>\n",
       "      <th>salary_max</th>\n",
       "      <th>average_salary</th>\n",
       "      <th>salary_range</th>\n",
       "      <th>city</th>\n",
       "      <th>state_code</th>\n",
       "    </tr>\n",
       "  </thead>\n",
       "  <tbody>\n",
       "    <tr>\n",
       "      <th>0</th>\n",
       "      <td>Sr Data Scientist</td>\n",
       "      <td>Description\\n\\nThe Senior Data Scientist is re...</td>\n",
       "      <td>3.1</td>\n",
       "      <td>Healthfirst</td>\n",
       "      <td>New York, NY</td>\n",
       "      <td>1001 to 5000 employees</td>\n",
       "      <td>Nonprofit Organization</td>\n",
       "      <td>Insurance Carriers</td>\n",
       "      <td>Insurance</td>\n",
       "      <td>Unknown / Non-Applicable</td>\n",
       "      <td>137000</td>\n",
       "      <td>171000</td>\n",
       "      <td>154000</td>\n",
       "      <td>137000-171000</td>\n",
       "      <td>New York</td>\n",
       "      <td>NY</td>\n",
       "    </tr>\n",
       "    <tr>\n",
       "      <th>1</th>\n",
       "      <td>Data Scientist</td>\n",
       "      <td>Secure our Nation, Ignite your Future\\n\\nJoin ...</td>\n",
       "      <td>4.2</td>\n",
       "      <td>ManTech</td>\n",
       "      <td>Herndon, VA</td>\n",
       "      <td>5001 to 10000 employees</td>\n",
       "      <td>Company - Public</td>\n",
       "      <td>Research &amp; Development</td>\n",
       "      <td>Business Services</td>\n",
       "      <td>$1 to $2 billion (USD)</td>\n",
       "      <td>137000</td>\n",
       "      <td>171000</td>\n",
       "      <td>154000</td>\n",
       "      <td>137000-171000</td>\n",
       "      <td>Chantilly</td>\n",
       "      <td>VA</td>\n",
       "    </tr>\n",
       "    <tr>\n",
       "      <th>2</th>\n",
       "      <td>Data Scientist</td>\n",
       "      <td>Overview\\n\\n\\nAnalysis Group is one of the lar...</td>\n",
       "      <td>3.8</td>\n",
       "      <td>Analysis Group</td>\n",
       "      <td>Boston, MA</td>\n",
       "      <td>1001 to 5000 employees</td>\n",
       "      <td>Private Practice / Firm</td>\n",
       "      <td>Consulting</td>\n",
       "      <td>Business Services</td>\n",
       "      <td>$100 to $500 million (USD)</td>\n",
       "      <td>137000</td>\n",
       "      <td>171000</td>\n",
       "      <td>154000</td>\n",
       "      <td>137000-171000</td>\n",
       "      <td>Boston</td>\n",
       "      <td>MA</td>\n",
       "    </tr>\n",
       "    <tr>\n",
       "      <th>3</th>\n",
       "      <td>Data Scientist</td>\n",
       "      <td>JOB DESCRIPTION:\\n\\nDo you have a passion for ...</td>\n",
       "      <td>3.5</td>\n",
       "      <td>INFICON</td>\n",
       "      <td>Bad Ragaz, Switzerland</td>\n",
       "      <td>501 to 1000 employees</td>\n",
       "      <td>Company - Public</td>\n",
       "      <td>Electrical &amp; Electronic Manufacturing</td>\n",
       "      <td>Manufacturing</td>\n",
       "      <td>$100 to $500 million (USD)</td>\n",
       "      <td>137000</td>\n",
       "      <td>171000</td>\n",
       "      <td>154000</td>\n",
       "      <td>137000-171000</td>\n",
       "      <td>Newton</td>\n",
       "      <td>MA</td>\n",
       "    </tr>\n",
       "    <tr>\n",
       "      <th>4</th>\n",
       "      <td>Data Scientist</td>\n",
       "      <td>Data Scientist\\nAffinity Solutions / Marketing...</td>\n",
       "      <td>2.9</td>\n",
       "      <td>Affinity Solutions</td>\n",
       "      <td>New York, NY</td>\n",
       "      <td>51 to 200 employees</td>\n",
       "      <td>Company - Private</td>\n",
       "      <td>Advertising &amp; Marketing</td>\n",
       "      <td>Business Services</td>\n",
       "      <td>Unknown / Non-Applicable</td>\n",
       "      <td>137000</td>\n",
       "      <td>171000</td>\n",
       "      <td>154000</td>\n",
       "      <td>137000-171000</td>\n",
       "      <td>New York</td>\n",
       "      <td>NY</td>\n",
       "    </tr>\n",
       "    <tr>\n",
       "      <th>...</th>\n",
       "      <td>...</td>\n",
       "      <td>...</td>\n",
       "      <td>...</td>\n",
       "      <td>...</td>\n",
       "      <td>...</td>\n",
       "      <td>...</td>\n",
       "      <td>...</td>\n",
       "      <td>...</td>\n",
       "      <td>...</td>\n",
       "      <td>...</td>\n",
       "      <td>...</td>\n",
       "      <td>...</td>\n",
       "      <td>...</td>\n",
       "      <td>...</td>\n",
       "      <td>...</td>\n",
       "      <td>...</td>\n",
       "    </tr>\n",
       "    <tr>\n",
       "      <th>667</th>\n",
       "      <td>Data Scientist</td>\n",
       "      <td>Summary\\n\\nWe’re looking for a data scientist ...</td>\n",
       "      <td>3.6</td>\n",
       "      <td>TRANZACT</td>\n",
       "      <td>Fort Lee, NJ</td>\n",
       "      <td>1001 to 5000 employees</td>\n",
       "      <td>Company - Private</td>\n",
       "      <td>Advertising &amp; Marketing</td>\n",
       "      <td>Business Services</td>\n",
       "      <td>Unknown / Non-Applicable</td>\n",
       "      <td>105000</td>\n",
       "      <td>167000</td>\n",
       "      <td>136000</td>\n",
       "      <td>105000-167000</td>\n",
       "      <td>Fort Lee</td>\n",
       "      <td>NJ</td>\n",
       "    </tr>\n",
       "    <tr>\n",
       "      <th>668</th>\n",
       "      <td>Data Scientist</td>\n",
       "      <td>Job Description\\nBecome a thought leader withi...</td>\n",
       "      <td>-1.0</td>\n",
       "      <td>JKGT</td>\n",
       "      <td>-1</td>\n",
       "      <td>-1</td>\n",
       "      <td>-1</td>\n",
       "      <td>-1</td>\n",
       "      <td>-1</td>\n",
       "      <td>-1</td>\n",
       "      <td>105000</td>\n",
       "      <td>167000</td>\n",
       "      <td>136000</td>\n",
       "      <td>105000-167000</td>\n",
       "      <td>San Francisco</td>\n",
       "      <td>CA</td>\n",
       "    </tr>\n",
       "    <tr>\n",
       "      <th>669</th>\n",
       "      <td>Data Scientist</td>\n",
       "      <td>Join a thriving company that is changing the w...</td>\n",
       "      <td>-1.0</td>\n",
       "      <td>AccessHope</td>\n",
       "      <td>-1</td>\n",
       "      <td>-1</td>\n",
       "      <td>-1</td>\n",
       "      <td>-1</td>\n",
       "      <td>-1</td>\n",
       "      <td>-1</td>\n",
       "      <td>105000</td>\n",
       "      <td>167000</td>\n",
       "      <td>136000</td>\n",
       "      <td>105000-167000</td>\n",
       "      <td>Irwindale</td>\n",
       "      <td>CA</td>\n",
       "    </tr>\n",
       "    <tr>\n",
       "      <th>670</th>\n",
       "      <td>Data Scientist</td>\n",
       "      <td>100 Remote Opportunity As an AINLP Data Scient...</td>\n",
       "      <td>5.0</td>\n",
       "      <td>ChaTeck Incorporated</td>\n",
       "      <td>Santa Clara, CA</td>\n",
       "      <td>1 to 50 employees</td>\n",
       "      <td>Company - Private</td>\n",
       "      <td>Advertising &amp; Marketing</td>\n",
       "      <td>Business Services</td>\n",
       "      <td>$1 to $5 million (USD)</td>\n",
       "      <td>105000</td>\n",
       "      <td>167000</td>\n",
       "      <td>136000</td>\n",
       "      <td>105000-167000</td>\n",
       "      <td>San Francisco</td>\n",
       "      <td>CA</td>\n",
       "    </tr>\n",
       "    <tr>\n",
       "      <th>671</th>\n",
       "      <td>Data Scientist</td>\n",
       "      <td>Description\\n\\nThe Data Scientist will be part...</td>\n",
       "      <td>2.7</td>\n",
       "      <td>1-800-Flowers</td>\n",
       "      <td>Carle Place, NY</td>\n",
       "      <td>1001 to 5000 employees</td>\n",
       "      <td>Company - Public</td>\n",
       "      <td>Wholesale</td>\n",
       "      <td>Business Services</td>\n",
       "      <td>$1 to $2 billion (USD)</td>\n",
       "      <td>105000</td>\n",
       "      <td>167000</td>\n",
       "      <td>136000</td>\n",
       "      <td>105000-167000</td>\n",
       "      <td>New York</td>\n",
       "      <td>NY</td>\n",
       "    </tr>\n",
       "  </tbody>\n",
       "</table>\n",
       "<p>672 rows × 16 columns</p>\n",
       "</div>"
      ],
      "text/plain": [
       "             job_title                                    job_description  \\\n",
       "0    Sr Data Scientist  Description\\n\\nThe Senior Data Scientist is re...   \n",
       "1       Data Scientist  Secure our Nation, Ignite your Future\\n\\nJoin ...   \n",
       "2       Data Scientist  Overview\\n\\n\\nAnalysis Group is one of the lar...   \n",
       "3       Data Scientist  JOB DESCRIPTION:\\n\\nDo you have a passion for ...   \n",
       "4       Data Scientist  Data Scientist\\nAffinity Solutions / Marketing...   \n",
       "..                 ...                                                ...   \n",
       "667     Data Scientist  Summary\\n\\nWe’re looking for a data scientist ...   \n",
       "668     Data Scientist  Job Description\\nBecome a thought leader withi...   \n",
       "669     Data Scientist  Join a thriving company that is changing the w...   \n",
       "670     Data Scientist  100 Remote Opportunity As an AINLP Data Scient...   \n",
       "671     Data Scientist  Description\\n\\nThe Data Scientist will be part...   \n",
       "\n",
       "     rating          company_name            headquarters  \\\n",
       "0       3.1           Healthfirst            New York, NY   \n",
       "1       4.2               ManTech             Herndon, VA   \n",
       "2       3.8        Analysis Group              Boston, MA   \n",
       "3       3.5               INFICON  Bad Ragaz, Switzerland   \n",
       "4       2.9    Affinity Solutions            New York, NY   \n",
       "..      ...                   ...                     ...   \n",
       "667     3.6              TRANZACT            Fort Lee, NJ   \n",
       "668    -1.0                  JKGT                      -1   \n",
       "669    -1.0            AccessHope                      -1   \n",
       "670     5.0  ChaTeck Incorporated         Santa Clara, CA   \n",
       "671     2.7         1-800-Flowers         Carle Place, NY   \n",
       "\n",
       "                        size        type_of_ownership  \\\n",
       "0     1001 to 5000 employees   Nonprofit Organization   \n",
       "1    5001 to 10000 employees         Company - Public   \n",
       "2     1001 to 5000 employees  Private Practice / Firm   \n",
       "3      501 to 1000 employees         Company - Public   \n",
       "4        51 to 200 employees        Company - Private   \n",
       "..                       ...                      ...   \n",
       "667   1001 to 5000 employees        Company - Private   \n",
       "668                       -1                       -1   \n",
       "669                       -1                       -1   \n",
       "670        1 to 50 employees        Company - Private   \n",
       "671   1001 to 5000 employees         Company - Public   \n",
       "\n",
       "                                  industry             sector  \\\n",
       "0                       Insurance Carriers          Insurance   \n",
       "1                   Research & Development  Business Services   \n",
       "2                               Consulting  Business Services   \n",
       "3    Electrical & Electronic Manufacturing      Manufacturing   \n",
       "4                  Advertising & Marketing  Business Services   \n",
       "..                                     ...                ...   \n",
       "667                Advertising & Marketing  Business Services   \n",
       "668                                     -1                 -1   \n",
       "669                                     -1                 -1   \n",
       "670                Advertising & Marketing  Business Services   \n",
       "671                              Wholesale  Business Services   \n",
       "\n",
       "                        revenue  salary_min  salary_max  average_salary  \\\n",
       "0      Unknown / Non-Applicable      137000      171000          154000   \n",
       "1        $1 to $2 billion (USD)      137000      171000          154000   \n",
       "2    $100 to $500 million (USD)      137000      171000          154000   \n",
       "3    $100 to $500 million (USD)      137000      171000          154000   \n",
       "4      Unknown / Non-Applicable      137000      171000          154000   \n",
       "..                          ...         ...         ...             ...   \n",
       "667    Unknown / Non-Applicable      105000      167000          136000   \n",
       "668                          -1      105000      167000          136000   \n",
       "669                          -1      105000      167000          136000   \n",
       "670      $1 to $5 million (USD)      105000      167000          136000   \n",
       "671      $1 to $2 billion (USD)      105000      167000          136000   \n",
       "\n",
       "      salary_range           city state_code  \n",
       "0    137000-171000       New York         NY  \n",
       "1    137000-171000      Chantilly         VA  \n",
       "2    137000-171000         Boston         MA  \n",
       "3    137000-171000         Newton         MA  \n",
       "4    137000-171000       New York         NY  \n",
       "..             ...            ...        ...  \n",
       "667  105000-167000       Fort Lee         NJ  \n",
       "668  105000-167000  San Francisco         CA  \n",
       "669  105000-167000      Irwindale         CA  \n",
       "670  105000-167000  San Francisco         CA  \n",
       "671  105000-167000       New York         NY  \n",
       "\n",
       "[672 rows x 16 columns]"
      ]
     },
     "execution_count": 34,
     "metadata": {},
     "output_type": "execute_result"
    }
   ],
   "source": [
    "data"
   ]
  },
  {
   "cell_type": "code",
   "execution_count": null,
   "id": "be16ccfb",
   "metadata": {},
   "outputs": [],
   "source": []
  },
  {
   "cell_type": "markdown",
   "id": "e1c7b7ff",
   "metadata": {},
   "source": [
    "### 10. In the 'headquarters' column, Replace '-1' by 'Unknown'"
   ]
  },
  {
   "cell_type": "code",
   "execution_count": 35,
   "id": "afc2cf61",
   "metadata": {},
   "outputs": [],
   "source": [
    "data.loc[:,'headquarters'] = data.loc[:,'headquarters'].str.replace('-1', 'Unknown')"
   ]
  },
  {
   "cell_type": "code",
   "execution_count": null,
   "id": "938bc59a",
   "metadata": {},
   "outputs": [],
   "source": []
  },
  {
   "cell_type": "markdown",
   "id": "bd1cdadf",
   "metadata": {},
   "source": [
    "### 11. In the 'size' column, Replace '-1' by 'Unknown'"
   ]
  },
  {
   "cell_type": "code",
   "execution_count": 36,
   "id": "0904270c",
   "metadata": {},
   "outputs": [],
   "source": [
    "data.loc[:,'size'] = data.loc[:,'size'].str.replace('-1', 'Unknown')\n"
   ]
  },
  {
   "cell_type": "code",
   "execution_count": null,
   "id": "7b151753",
   "metadata": {},
   "outputs": [],
   "source": []
  },
  {
   "cell_type": "markdown",
   "id": "b689c9ff",
   "metadata": {},
   "source": [
    "### 12. In the 'type_of_ownership' column, Replace '-1' by 'Unknown', Remove prefix 'Company -', Remove suffix 'Orgnaization'"
   ]
  },
  {
   "cell_type": "code",
   "execution_count": 37,
   "id": "3d68944a",
   "metadata": {},
   "outputs": [],
   "source": [
    "data.loc[:,'type_of_ownership'] = data.loc[:,'type_of_ownership'].str.replace('-1', 'Unknown')\n",
    "data.loc[:,'type_of_ownership'] = data.loc[:,'type_of_ownership'].str.replace('Company -', '').str.replace('Organization', '')"
   ]
  },
  {
   "cell_type": "code",
   "execution_count": null,
   "id": "a8ab12d3",
   "metadata": {},
   "outputs": [],
   "source": []
  },
  {
   "cell_type": "markdown",
   "id": "51e2012a",
   "metadata": {},
   "source": [
    "### 13. In the 'industry' column, Replace '-1' by 'Unknown'"
   ]
  },
  {
   "cell_type": "code",
   "execution_count": 38,
   "id": "0c42286b",
   "metadata": {},
   "outputs": [],
   "source": [
    "data.loc[:,'industry'] = data.loc[:,'industry'].str.replace('-1', 'Unknown')"
   ]
  },
  {
   "cell_type": "code",
   "execution_count": null,
   "id": "b722e03f",
   "metadata": {},
   "outputs": [],
   "source": []
  },
  {
   "cell_type": "markdown",
   "id": "8ec01563",
   "metadata": {},
   "source": [
    "### 14. In the 'sector' column, Replace '-1' by 'Unknown' "
   ]
  },
  {
   "cell_type": "code",
   "execution_count": 39,
   "id": "a69d4d34",
   "metadata": {},
   "outputs": [],
   "source": [
    "data.loc[:,'sector'] = data.loc[:,'sector'].str.replace('-1', 'Unknown')"
   ]
  },
  {
   "cell_type": "code",
   "execution_count": null,
   "id": "cfffa5c5",
   "metadata": {},
   "outputs": [],
   "source": []
  },
  {
   "cell_type": "markdown",
   "id": "17a09b35",
   "metadata": {},
   "source": [
    "### 15. In the 'revenue' column, Replace '-1' by 'Unknown'"
   ]
  },
  {
   "cell_type": "code",
   "execution_count": 40,
   "id": "6ae4c2c6",
   "metadata": {},
   "outputs": [],
   "source": [
    "data.loc[:,'revenue'] = data.loc[:,'revenue'].str.replace('-1', 'Unknown')"
   ]
  },
  {
   "cell_type": "code",
   "execution_count": null,
   "id": "2cc54c52",
   "metadata": {},
   "outputs": [],
   "source": []
  },
  {
   "cell_type": "markdown",
   "id": "215dc913",
   "metadata": {},
   "source": [
    "### 16. Check if there is any '-1' still undeleted:"
   ]
  },
  {
   "cell_type": "code",
   "execution_count": 41,
   "id": "4de996f1",
   "metadata": {},
   "outputs": [
    {
     "data": {
      "text/html": [
       "<div>\n",
       "<style scoped>\n",
       "    .dataframe tbody tr th:only-of-type {\n",
       "        vertical-align: middle;\n",
       "    }\n",
       "\n",
       "    .dataframe tbody tr th {\n",
       "        vertical-align: top;\n",
       "    }\n",
       "\n",
       "    .dataframe thead th {\n",
       "        text-align: right;\n",
       "    }\n",
       "</style>\n",
       "<table border=\"1\" class=\"dataframe\">\n",
       "  <thead>\n",
       "    <tr style=\"text-align: right;\">\n",
       "      <th></th>\n",
       "      <th>job_title</th>\n",
       "      <th>job_description</th>\n",
       "      <th>rating</th>\n",
       "      <th>company_name</th>\n",
       "      <th>headquarters</th>\n",
       "      <th>size</th>\n",
       "      <th>type_of_ownership</th>\n",
       "      <th>industry</th>\n",
       "      <th>sector</th>\n",
       "      <th>revenue</th>\n",
       "      <th>salary_min</th>\n",
       "      <th>salary_max</th>\n",
       "      <th>average_salary</th>\n",
       "      <th>salary_range</th>\n",
       "      <th>city</th>\n",
       "      <th>state_code</th>\n",
       "    </tr>\n",
       "  </thead>\n",
       "  <tbody>\n",
       "  </tbody>\n",
       "</table>\n",
       "</div>"
      ],
      "text/plain": [
       "Empty DataFrame\n",
       "Columns: [job_title, job_description, rating, company_name, headquarters, size, type_of_ownership, industry, sector, revenue, salary_min, salary_max, average_salary, salary_range, city, state_code]\n",
       "Index: []"
      ]
     },
     "execution_count": 41,
     "metadata": {},
     "output_type": "execute_result"
    }
   ],
   "source": [
    "data[data.eq(\"-1\").any(axis = 1)]"
   ]
  },
  {
   "cell_type": "code",
   "execution_count": null,
   "id": "84013e2b",
   "metadata": {},
   "outputs": [],
   "source": []
  },
  {
   "cell_type": "markdown",
   "id": "a3284de9",
   "metadata": {},
   "source": [
    "### 17. Organize the 'job_title' column:"
   ]
  },
  {
   "cell_type": "code",
   "execution_count": 42,
   "id": "94b46561",
   "metadata": {},
   "outputs": [
    {
     "data": {
      "text/plain": [
       "job_title\n",
       "data scientist      455\n",
       "n/a                  79\n",
       "data analyst         55\n",
       "data engineer        47\n",
       "machine learning     36\n",
       "Name: count, dtype: int64"
      ]
     },
     "execution_count": 42,
     "metadata": {},
     "output_type": "execute_result"
    }
   ],
   "source": [
    "def title_simplification(title):\n",
    "    if \"data scientist\" in title.lower():\n",
    "        return \"data scientist\"\n",
    "    elif \"data analyst\" in title.lower():\n",
    "        return \"data analyst\"\n",
    "    elif \"data engineer\" in title.lower():\n",
    "        return \"data engineer\"\n",
    "    elif \"machine learning\" in title.lower():\n",
    "        return \"machine learning\"\n",
    "    elif \"analyst\" in title.lower():\n",
    "        return \"data analyst\"\n",
    "    else:\n",
    "        return \"n/a\"\n",
    "\n",
    "data[\"job_title\"]= data[\"job_title\"].apply(title_simplification)\n",
    "data[\"job_title\"].value_counts()"
   ]
  },
  {
   "cell_type": "code",
   "execution_count": null,
   "id": "d1807261",
   "metadata": {},
   "outputs": [],
   "source": []
  },
  {
   "cell_type": "markdown",
   "id": "33172954",
   "metadata": {},
   "source": [
    "### 19. Visualize final state:"
   ]
  },
  {
   "cell_type": "code",
   "execution_count": 43,
   "id": "4be08cd1",
   "metadata": {},
   "outputs": [
    {
     "data": {
      "text/html": [
       "<div>\n",
       "<style scoped>\n",
       "    .dataframe tbody tr th:only-of-type {\n",
       "        vertical-align: middle;\n",
       "    }\n",
       "\n",
       "    .dataframe tbody tr th {\n",
       "        vertical-align: top;\n",
       "    }\n",
       "\n",
       "    .dataframe thead th {\n",
       "        text-align: right;\n",
       "    }\n",
       "</style>\n",
       "<table border=\"1\" class=\"dataframe\">\n",
       "  <thead>\n",
       "    <tr style=\"text-align: right;\">\n",
       "      <th></th>\n",
       "      <th>job_title</th>\n",
       "      <th>job_description</th>\n",
       "      <th>rating</th>\n",
       "      <th>company_name</th>\n",
       "      <th>headquarters</th>\n",
       "      <th>size</th>\n",
       "      <th>type_of_ownership</th>\n",
       "      <th>industry</th>\n",
       "      <th>sector</th>\n",
       "      <th>revenue</th>\n",
       "      <th>salary_min</th>\n",
       "      <th>salary_max</th>\n",
       "      <th>average_salary</th>\n",
       "      <th>salary_range</th>\n",
       "      <th>city</th>\n",
       "      <th>state_code</th>\n",
       "    </tr>\n",
       "  </thead>\n",
       "  <tbody>\n",
       "    <tr>\n",
       "      <th>0</th>\n",
       "      <td>data scientist</td>\n",
       "      <td>Description\\n\\nThe Senior Data Scientist is re...</td>\n",
       "      <td>3.1</td>\n",
       "      <td>Healthfirst</td>\n",
       "      <td>New York, NY</td>\n",
       "      <td>1001 to 5000 employees</td>\n",
       "      <td>Nonprofit</td>\n",
       "      <td>Insurance Carriers</td>\n",
       "      <td>Insurance</td>\n",
       "      <td>Unknown / Non-Applicable</td>\n",
       "      <td>137000</td>\n",
       "      <td>171000</td>\n",
       "      <td>154000</td>\n",
       "      <td>137000-171000</td>\n",
       "      <td>New York</td>\n",
       "      <td>NY</td>\n",
       "    </tr>\n",
       "    <tr>\n",
       "      <th>1</th>\n",
       "      <td>data scientist</td>\n",
       "      <td>Secure our Nation, Ignite your Future\\n\\nJoin ...</td>\n",
       "      <td>4.2</td>\n",
       "      <td>ManTech</td>\n",
       "      <td>Herndon, VA</td>\n",
       "      <td>5001 to 10000 employees</td>\n",
       "      <td>Public</td>\n",
       "      <td>Research &amp; Development</td>\n",
       "      <td>Business Services</td>\n",
       "      <td>$1 to $2 billion (USD)</td>\n",
       "      <td>137000</td>\n",
       "      <td>171000</td>\n",
       "      <td>154000</td>\n",
       "      <td>137000-171000</td>\n",
       "      <td>Chantilly</td>\n",
       "      <td>VA</td>\n",
       "    </tr>\n",
       "    <tr>\n",
       "      <th>2</th>\n",
       "      <td>data scientist</td>\n",
       "      <td>Overview\\n\\n\\nAnalysis Group is one of the lar...</td>\n",
       "      <td>3.8</td>\n",
       "      <td>Analysis Group</td>\n",
       "      <td>Boston, MA</td>\n",
       "      <td>1001 to 5000 employees</td>\n",
       "      <td>Private Practice / Firm</td>\n",
       "      <td>Consulting</td>\n",
       "      <td>Business Services</td>\n",
       "      <td>$100 to $500 million (USD)</td>\n",
       "      <td>137000</td>\n",
       "      <td>171000</td>\n",
       "      <td>154000</td>\n",
       "      <td>137000-171000</td>\n",
       "      <td>Boston</td>\n",
       "      <td>MA</td>\n",
       "    </tr>\n",
       "    <tr>\n",
       "      <th>3</th>\n",
       "      <td>data scientist</td>\n",
       "      <td>JOB DESCRIPTION:\\n\\nDo you have a passion for ...</td>\n",
       "      <td>3.5</td>\n",
       "      <td>INFICON</td>\n",
       "      <td>Bad Ragaz, Switzerland</td>\n",
       "      <td>501 to 1000 employees</td>\n",
       "      <td>Public</td>\n",
       "      <td>Electrical &amp; Electronic Manufacturing</td>\n",
       "      <td>Manufacturing</td>\n",
       "      <td>$100 to $500 million (USD)</td>\n",
       "      <td>137000</td>\n",
       "      <td>171000</td>\n",
       "      <td>154000</td>\n",
       "      <td>137000-171000</td>\n",
       "      <td>Newton</td>\n",
       "      <td>MA</td>\n",
       "    </tr>\n",
       "    <tr>\n",
       "      <th>4</th>\n",
       "      <td>data scientist</td>\n",
       "      <td>Data Scientist\\nAffinity Solutions / Marketing...</td>\n",
       "      <td>2.9</td>\n",
       "      <td>Affinity Solutions</td>\n",
       "      <td>New York, NY</td>\n",
       "      <td>51 to 200 employees</td>\n",
       "      <td>Private</td>\n",
       "      <td>Advertising &amp; Marketing</td>\n",
       "      <td>Business Services</td>\n",
       "      <td>Unknown / Non-Applicable</td>\n",
       "      <td>137000</td>\n",
       "      <td>171000</td>\n",
       "      <td>154000</td>\n",
       "      <td>137000-171000</td>\n",
       "      <td>New York</td>\n",
       "      <td>NY</td>\n",
       "    </tr>\n",
       "    <tr>\n",
       "      <th>...</th>\n",
       "      <td>...</td>\n",
       "      <td>...</td>\n",
       "      <td>...</td>\n",
       "      <td>...</td>\n",
       "      <td>...</td>\n",
       "      <td>...</td>\n",
       "      <td>...</td>\n",
       "      <td>...</td>\n",
       "      <td>...</td>\n",
       "      <td>...</td>\n",
       "      <td>...</td>\n",
       "      <td>...</td>\n",
       "      <td>...</td>\n",
       "      <td>...</td>\n",
       "      <td>...</td>\n",
       "      <td>...</td>\n",
       "    </tr>\n",
       "    <tr>\n",
       "      <th>667</th>\n",
       "      <td>data scientist</td>\n",
       "      <td>Summary\\n\\nWe’re looking for a data scientist ...</td>\n",
       "      <td>3.6</td>\n",
       "      <td>TRANZACT</td>\n",
       "      <td>Fort Lee, NJ</td>\n",
       "      <td>1001 to 5000 employees</td>\n",
       "      <td>Private</td>\n",
       "      <td>Advertising &amp; Marketing</td>\n",
       "      <td>Business Services</td>\n",
       "      <td>Unknown / Non-Applicable</td>\n",
       "      <td>105000</td>\n",
       "      <td>167000</td>\n",
       "      <td>136000</td>\n",
       "      <td>105000-167000</td>\n",
       "      <td>Fort Lee</td>\n",
       "      <td>NJ</td>\n",
       "    </tr>\n",
       "    <tr>\n",
       "      <th>668</th>\n",
       "      <td>data scientist</td>\n",
       "      <td>Job Description\\nBecome a thought leader withi...</td>\n",
       "      <td>-1.0</td>\n",
       "      <td>JKGT</td>\n",
       "      <td>Unknown</td>\n",
       "      <td>Unknown</td>\n",
       "      <td>Unknown</td>\n",
       "      <td>Unknown</td>\n",
       "      <td>Unknown</td>\n",
       "      <td>Unknown</td>\n",
       "      <td>105000</td>\n",
       "      <td>167000</td>\n",
       "      <td>136000</td>\n",
       "      <td>105000-167000</td>\n",
       "      <td>San Francisco</td>\n",
       "      <td>CA</td>\n",
       "    </tr>\n",
       "    <tr>\n",
       "      <th>669</th>\n",
       "      <td>data scientist</td>\n",
       "      <td>Join a thriving company that is changing the w...</td>\n",
       "      <td>-1.0</td>\n",
       "      <td>AccessHope</td>\n",
       "      <td>Unknown</td>\n",
       "      <td>Unknown</td>\n",
       "      <td>Unknown</td>\n",
       "      <td>Unknown</td>\n",
       "      <td>Unknown</td>\n",
       "      <td>Unknown</td>\n",
       "      <td>105000</td>\n",
       "      <td>167000</td>\n",
       "      <td>136000</td>\n",
       "      <td>105000-167000</td>\n",
       "      <td>Irwindale</td>\n",
       "      <td>CA</td>\n",
       "    </tr>\n",
       "    <tr>\n",
       "      <th>670</th>\n",
       "      <td>data scientist</td>\n",
       "      <td>100 Remote Opportunity As an AINLP Data Scient...</td>\n",
       "      <td>5.0</td>\n",
       "      <td>ChaTeck Incorporated</td>\n",
       "      <td>Santa Clara, CA</td>\n",
       "      <td>1 to 50 employees</td>\n",
       "      <td>Private</td>\n",
       "      <td>Advertising &amp; Marketing</td>\n",
       "      <td>Business Services</td>\n",
       "      <td>$1 to $5 million (USD)</td>\n",
       "      <td>105000</td>\n",
       "      <td>167000</td>\n",
       "      <td>136000</td>\n",
       "      <td>105000-167000</td>\n",
       "      <td>San Francisco</td>\n",
       "      <td>CA</td>\n",
       "    </tr>\n",
       "    <tr>\n",
       "      <th>671</th>\n",
       "      <td>data scientist</td>\n",
       "      <td>Description\\n\\nThe Data Scientist will be part...</td>\n",
       "      <td>2.7</td>\n",
       "      <td>1-800-Flowers</td>\n",
       "      <td>Carle Place, NY</td>\n",
       "      <td>1001 to 5000 employees</td>\n",
       "      <td>Public</td>\n",
       "      <td>Wholesale</td>\n",
       "      <td>Business Services</td>\n",
       "      <td>$1 to $2 billion (USD)</td>\n",
       "      <td>105000</td>\n",
       "      <td>167000</td>\n",
       "      <td>136000</td>\n",
       "      <td>105000-167000</td>\n",
       "      <td>New York</td>\n",
       "      <td>NY</td>\n",
       "    </tr>\n",
       "  </tbody>\n",
       "</table>\n",
       "<p>672 rows × 16 columns</p>\n",
       "</div>"
      ],
      "text/plain": [
       "          job_title                                    job_description  \\\n",
       "0    data scientist  Description\\n\\nThe Senior Data Scientist is re...   \n",
       "1    data scientist  Secure our Nation, Ignite your Future\\n\\nJoin ...   \n",
       "2    data scientist  Overview\\n\\n\\nAnalysis Group is one of the lar...   \n",
       "3    data scientist  JOB DESCRIPTION:\\n\\nDo you have a passion for ...   \n",
       "4    data scientist  Data Scientist\\nAffinity Solutions / Marketing...   \n",
       "..              ...                                                ...   \n",
       "667  data scientist  Summary\\n\\nWe’re looking for a data scientist ...   \n",
       "668  data scientist  Job Description\\nBecome a thought leader withi...   \n",
       "669  data scientist  Join a thriving company that is changing the w...   \n",
       "670  data scientist  100 Remote Opportunity As an AINLP Data Scient...   \n",
       "671  data scientist  Description\\n\\nThe Data Scientist will be part...   \n",
       "\n",
       "     rating          company_name            headquarters  \\\n",
       "0       3.1           Healthfirst            New York, NY   \n",
       "1       4.2               ManTech             Herndon, VA   \n",
       "2       3.8        Analysis Group              Boston, MA   \n",
       "3       3.5               INFICON  Bad Ragaz, Switzerland   \n",
       "4       2.9    Affinity Solutions            New York, NY   \n",
       "..      ...                   ...                     ...   \n",
       "667     3.6              TRANZACT            Fort Lee, NJ   \n",
       "668    -1.0                  JKGT                 Unknown   \n",
       "669    -1.0            AccessHope                 Unknown   \n",
       "670     5.0  ChaTeck Incorporated         Santa Clara, CA   \n",
       "671     2.7         1-800-Flowers         Carle Place, NY   \n",
       "\n",
       "                        size        type_of_ownership  \\\n",
       "0     1001 to 5000 employees               Nonprofit    \n",
       "1    5001 to 10000 employees                   Public   \n",
       "2     1001 to 5000 employees  Private Practice / Firm   \n",
       "3      501 to 1000 employees                   Public   \n",
       "4        51 to 200 employees                  Private   \n",
       "..                       ...                      ...   \n",
       "667   1001 to 5000 employees                  Private   \n",
       "668                  Unknown                  Unknown   \n",
       "669                  Unknown                  Unknown   \n",
       "670        1 to 50 employees                  Private   \n",
       "671   1001 to 5000 employees                   Public   \n",
       "\n",
       "                                  industry             sector  \\\n",
       "0                       Insurance Carriers          Insurance   \n",
       "1                   Research & Development  Business Services   \n",
       "2                               Consulting  Business Services   \n",
       "3    Electrical & Electronic Manufacturing      Manufacturing   \n",
       "4                  Advertising & Marketing  Business Services   \n",
       "..                                     ...                ...   \n",
       "667                Advertising & Marketing  Business Services   \n",
       "668                                Unknown            Unknown   \n",
       "669                                Unknown            Unknown   \n",
       "670                Advertising & Marketing  Business Services   \n",
       "671                              Wholesale  Business Services   \n",
       "\n",
       "                        revenue  salary_min  salary_max  average_salary  \\\n",
       "0      Unknown / Non-Applicable      137000      171000          154000   \n",
       "1        $1 to $2 billion (USD)      137000      171000          154000   \n",
       "2    $100 to $500 million (USD)      137000      171000          154000   \n",
       "3    $100 to $500 million (USD)      137000      171000          154000   \n",
       "4      Unknown / Non-Applicable      137000      171000          154000   \n",
       "..                          ...         ...         ...             ...   \n",
       "667    Unknown / Non-Applicable      105000      167000          136000   \n",
       "668                     Unknown      105000      167000          136000   \n",
       "669                     Unknown      105000      167000          136000   \n",
       "670      $1 to $5 million (USD)      105000      167000          136000   \n",
       "671      $1 to $2 billion (USD)      105000      167000          136000   \n",
       "\n",
       "      salary_range           city state_code  \n",
       "0    137000-171000       New York         NY  \n",
       "1    137000-171000      Chantilly         VA  \n",
       "2    137000-171000         Boston         MA  \n",
       "3    137000-171000         Newton         MA  \n",
       "4    137000-171000       New York         NY  \n",
       "..             ...            ...        ...  \n",
       "667  105000-167000       Fort Lee         NJ  \n",
       "668  105000-167000  San Francisco         CA  \n",
       "669  105000-167000      Irwindale         CA  \n",
       "670  105000-167000  San Francisco         CA  \n",
       "671  105000-167000       New York         NY  \n",
       "\n",
       "[672 rows x 16 columns]"
      ]
     },
     "execution_count": 43,
     "metadata": {},
     "output_type": "execute_result"
    }
   ],
   "source": [
    "data"
   ]
  },
  {
   "cell_type": "code",
   "execution_count": null,
   "id": "4bc804a8",
   "metadata": {},
   "outputs": [],
   "source": []
  },
  {
   "cell_type": "code",
   "execution_count": null,
   "id": "ed7311a9",
   "metadata": {},
   "outputs": [],
   "source": []
  },
  {
   "cell_type": "markdown",
   "id": "2f0b1053",
   "metadata": {},
   "source": [
    "### 20. Export final state of the data into a target .CSV file"
   ]
  },
  {
   "cell_type": "code",
   "execution_count": 44,
   "id": "468cfbb8",
   "metadata": {},
   "outputs": [],
   "source": [
    "target_path = \"Path/To/Your/Cleaned_DS_jobs.csv\"\n",
    "data.to_csv(target_path, index=False)"
   ]
  },
  {
   "cell_type": "code",
   "execution_count": null,
   "id": "d324a26d",
   "metadata": {},
   "outputs": [],
   "source": []
  }
 ],
 "metadata": {
  "kernelspec": {
   "display_name": "Python 3 (ipykernel)",
   "language": "python",
   "name": "python3"
  },
  "language_info": {
   "codemirror_mode": {
    "name": "ipython",
    "version": 3
   },
   "file_extension": ".py",
   "mimetype": "text/x-python",
   "name": "python",
   "nbconvert_exporter": "python",
   "pygments_lexer": "ipython3",
   "version": "3.11.5"
  }
 },
 "nbformat": 4,
 "nbformat_minor": 5
}
